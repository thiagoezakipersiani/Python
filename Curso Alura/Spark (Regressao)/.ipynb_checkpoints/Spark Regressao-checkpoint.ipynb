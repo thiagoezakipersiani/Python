{
 "cells": [
  {
   "cell_type": "code",
   "execution_count": 4,
   "id": "0e9fe760",
   "metadata": {},
   "outputs": [
    {
     "name": "stdout",
     "output_type": "stream",
     "text": [
      "Requirement already satisfied: wget in c:\\users\\thiago.persiani\\anaconda3\\lib\\site-packages (3.2)\n",
      "\n",
      "[notice] A new release of pip available: 22.2 -> 22.3.1\n",
      "[notice] To update, run: python.exe -m pip install --upgrade pip\n"
     ]
    },
    {
     "ename": "KeyboardInterrupt",
     "evalue": "",
     "output_type": "error",
     "traceback": [
      "\u001b[1;31m---------------------------------------------------------------------------\u001b[0m",
      "\u001b[1;31mKeyboardInterrupt\u001b[0m                         Traceback (most recent call last)",
      "\u001b[1;32mC:\\Users\\THIAGO~1.PER\\AppData\\Local\\Temp/ipykernel_12312/1107301872.py\u001b[0m in \u001b[0;36m<module>\u001b[1;34m\u001b[0m\n\u001b[0;32m     13\u001b[0m \u001b[0murl\u001b[0m \u001b[1;33m=\u001b[0m \u001b[1;34m'https://dlcdn.apache.org/spark/spark-3.2.3/spark-3.2.3-bin-hadoop2.7.tgz'\u001b[0m\u001b[1;33m\u001b[0m\u001b[1;33m\u001b[0m\u001b[0m\n\u001b[0;32m     14\u001b[0m \u001b[1;33m\u001b[0m\u001b[0m\n\u001b[1;32m---> 15\u001b[1;33m \u001b[0mfilename\u001b[0m \u001b[1;33m=\u001b[0m \u001b[0mwget\u001b[0m\u001b[1;33m.\u001b[0m\u001b[0mdownload\u001b[0m\u001b[1;33m(\u001b[0m\u001b[0murl\u001b[0m\u001b[1;33m)\u001b[0m\u001b[1;33m\u001b[0m\u001b[1;33m\u001b[0m\u001b[0m\n\u001b[0m\u001b[0;32m     16\u001b[0m \u001b[1;33m\u001b[0m\u001b[0m\n\u001b[0;32m     17\u001b[0m \u001b[1;31m#despizar o spark\u001b[0m\u001b[1;33m\u001b[0m\u001b[1;33m\u001b[0m\u001b[0m\n",
      "\u001b[1;32m~\\Anaconda3\\lib\\site-packages\\wget.py\u001b[0m in \u001b[0;36mdownload\u001b[1;34m(url, out, bar)\u001b[0m\n\u001b[0;32m    524\u001b[0m     \u001b[1;32melse\u001b[0m\u001b[1;33m:\u001b[0m\u001b[1;33m\u001b[0m\u001b[1;33m\u001b[0m\u001b[0m\n\u001b[0;32m    525\u001b[0m         \u001b[0mbinurl\u001b[0m \u001b[1;33m=\u001b[0m \u001b[0murl\u001b[0m\u001b[1;33m\u001b[0m\u001b[1;33m\u001b[0m\u001b[0m\n\u001b[1;32m--> 526\u001b[1;33m     \u001b[1;33m(\u001b[0m\u001b[0mtmpfile\u001b[0m\u001b[1;33m,\u001b[0m \u001b[0mheaders\u001b[0m\u001b[1;33m)\u001b[0m \u001b[1;33m=\u001b[0m \u001b[0mulib\u001b[0m\u001b[1;33m.\u001b[0m\u001b[0murlretrieve\u001b[0m\u001b[1;33m(\u001b[0m\u001b[0mbinurl\u001b[0m\u001b[1;33m,\u001b[0m \u001b[0mtmpfile\u001b[0m\u001b[1;33m,\u001b[0m \u001b[0mcallback\u001b[0m\u001b[1;33m)\u001b[0m\u001b[1;33m\u001b[0m\u001b[1;33m\u001b[0m\u001b[0m\n\u001b[0m\u001b[0;32m    527\u001b[0m     \u001b[0mfilename\u001b[0m \u001b[1;33m=\u001b[0m \u001b[0mdetect_filename\u001b[0m\u001b[1;33m(\u001b[0m\u001b[0murl\u001b[0m\u001b[1;33m,\u001b[0m \u001b[0mout\u001b[0m\u001b[1;33m,\u001b[0m \u001b[0mheaders\u001b[0m\u001b[1;33m)\u001b[0m\u001b[1;33m\u001b[0m\u001b[1;33m\u001b[0m\u001b[0m\n\u001b[0;32m    528\u001b[0m     \u001b[1;32mif\u001b[0m \u001b[0moutdir\u001b[0m\u001b[1;33m:\u001b[0m\u001b[1;33m\u001b[0m\u001b[1;33m\u001b[0m\u001b[0m\n",
      "\u001b[1;32m~\\Anaconda3\\lib\\urllib\\request.py\u001b[0m in \u001b[0;36murlretrieve\u001b[1;34m(url, filename, reporthook, data)\u001b[0m\n\u001b[0;32m    237\u001b[0m     \u001b[0murl_type\u001b[0m\u001b[1;33m,\u001b[0m \u001b[0mpath\u001b[0m \u001b[1;33m=\u001b[0m \u001b[0m_splittype\u001b[0m\u001b[1;33m(\u001b[0m\u001b[0murl\u001b[0m\u001b[1;33m)\u001b[0m\u001b[1;33m\u001b[0m\u001b[1;33m\u001b[0m\u001b[0m\n\u001b[0;32m    238\u001b[0m \u001b[1;33m\u001b[0m\u001b[0m\n\u001b[1;32m--> 239\u001b[1;33m     \u001b[1;32mwith\u001b[0m \u001b[0mcontextlib\u001b[0m\u001b[1;33m.\u001b[0m\u001b[0mclosing\u001b[0m\u001b[1;33m(\u001b[0m\u001b[0murlopen\u001b[0m\u001b[1;33m(\u001b[0m\u001b[0murl\u001b[0m\u001b[1;33m,\u001b[0m \u001b[0mdata\u001b[0m\u001b[1;33m)\u001b[0m\u001b[1;33m)\u001b[0m \u001b[1;32mas\u001b[0m \u001b[0mfp\u001b[0m\u001b[1;33m:\u001b[0m\u001b[1;33m\u001b[0m\u001b[1;33m\u001b[0m\u001b[0m\n\u001b[0m\u001b[0;32m    240\u001b[0m         \u001b[0mheaders\u001b[0m \u001b[1;33m=\u001b[0m \u001b[0mfp\u001b[0m\u001b[1;33m.\u001b[0m\u001b[0minfo\u001b[0m\u001b[1;33m(\u001b[0m\u001b[1;33m)\u001b[0m\u001b[1;33m\u001b[0m\u001b[1;33m\u001b[0m\u001b[0m\n\u001b[0;32m    241\u001b[0m \u001b[1;33m\u001b[0m\u001b[0m\n",
      "\u001b[1;32m~\\Anaconda3\\lib\\urllib\\request.py\u001b[0m in \u001b[0;36murlopen\u001b[1;34m(url, data, timeout, cafile, capath, cadefault, context)\u001b[0m\n\u001b[0;32m    212\u001b[0m     \u001b[1;32melse\u001b[0m\u001b[1;33m:\u001b[0m\u001b[1;33m\u001b[0m\u001b[1;33m\u001b[0m\u001b[0m\n\u001b[0;32m    213\u001b[0m         \u001b[0mopener\u001b[0m \u001b[1;33m=\u001b[0m \u001b[0m_opener\u001b[0m\u001b[1;33m\u001b[0m\u001b[1;33m\u001b[0m\u001b[0m\n\u001b[1;32m--> 214\u001b[1;33m     \u001b[1;32mreturn\u001b[0m \u001b[0mopener\u001b[0m\u001b[1;33m.\u001b[0m\u001b[0mopen\u001b[0m\u001b[1;33m(\u001b[0m\u001b[0murl\u001b[0m\u001b[1;33m,\u001b[0m \u001b[0mdata\u001b[0m\u001b[1;33m,\u001b[0m \u001b[0mtimeout\u001b[0m\u001b[1;33m)\u001b[0m\u001b[1;33m\u001b[0m\u001b[1;33m\u001b[0m\u001b[0m\n\u001b[0m\u001b[0;32m    215\u001b[0m \u001b[1;33m\u001b[0m\u001b[0m\n\u001b[0;32m    216\u001b[0m \u001b[1;32mdef\u001b[0m \u001b[0minstall_opener\u001b[0m\u001b[1;33m(\u001b[0m\u001b[0mopener\u001b[0m\u001b[1;33m)\u001b[0m\u001b[1;33m:\u001b[0m\u001b[1;33m\u001b[0m\u001b[1;33m\u001b[0m\u001b[0m\n",
      "\u001b[1;32m~\\Anaconda3\\lib\\urllib\\request.py\u001b[0m in \u001b[0;36mopen\u001b[1;34m(self, fullurl, data, timeout)\u001b[0m\n\u001b[0;32m    515\u001b[0m \u001b[1;33m\u001b[0m\u001b[0m\n\u001b[0;32m    516\u001b[0m         \u001b[0msys\u001b[0m\u001b[1;33m.\u001b[0m\u001b[0maudit\u001b[0m\u001b[1;33m(\u001b[0m\u001b[1;34m'urllib.Request'\u001b[0m\u001b[1;33m,\u001b[0m \u001b[0mreq\u001b[0m\u001b[1;33m.\u001b[0m\u001b[0mfull_url\u001b[0m\u001b[1;33m,\u001b[0m \u001b[0mreq\u001b[0m\u001b[1;33m.\u001b[0m\u001b[0mdata\u001b[0m\u001b[1;33m,\u001b[0m \u001b[0mreq\u001b[0m\u001b[1;33m.\u001b[0m\u001b[0mheaders\u001b[0m\u001b[1;33m,\u001b[0m \u001b[0mreq\u001b[0m\u001b[1;33m.\u001b[0m\u001b[0mget_method\u001b[0m\u001b[1;33m(\u001b[0m\u001b[1;33m)\u001b[0m\u001b[1;33m)\u001b[0m\u001b[1;33m\u001b[0m\u001b[1;33m\u001b[0m\u001b[0m\n\u001b[1;32m--> 517\u001b[1;33m         \u001b[0mresponse\u001b[0m \u001b[1;33m=\u001b[0m \u001b[0mself\u001b[0m\u001b[1;33m.\u001b[0m\u001b[0m_open\u001b[0m\u001b[1;33m(\u001b[0m\u001b[0mreq\u001b[0m\u001b[1;33m,\u001b[0m \u001b[0mdata\u001b[0m\u001b[1;33m)\u001b[0m\u001b[1;33m\u001b[0m\u001b[1;33m\u001b[0m\u001b[0m\n\u001b[0m\u001b[0;32m    518\u001b[0m \u001b[1;33m\u001b[0m\u001b[0m\n\u001b[0;32m    519\u001b[0m         \u001b[1;31m# post-process response\u001b[0m\u001b[1;33m\u001b[0m\u001b[1;33m\u001b[0m\u001b[0m\n",
      "\u001b[1;32m~\\Anaconda3\\lib\\urllib\\request.py\u001b[0m in \u001b[0;36m_open\u001b[1;34m(self, req, data)\u001b[0m\n\u001b[0;32m    532\u001b[0m \u001b[1;33m\u001b[0m\u001b[0m\n\u001b[0;32m    533\u001b[0m         \u001b[0mprotocol\u001b[0m \u001b[1;33m=\u001b[0m \u001b[0mreq\u001b[0m\u001b[1;33m.\u001b[0m\u001b[0mtype\u001b[0m\u001b[1;33m\u001b[0m\u001b[1;33m\u001b[0m\u001b[0m\n\u001b[1;32m--> 534\u001b[1;33m         result = self._call_chain(self.handle_open, protocol, protocol +\n\u001b[0m\u001b[0;32m    535\u001b[0m                                   '_open', req)\n\u001b[0;32m    536\u001b[0m         \u001b[1;32mif\u001b[0m \u001b[0mresult\u001b[0m\u001b[1;33m:\u001b[0m\u001b[1;33m\u001b[0m\u001b[1;33m\u001b[0m\u001b[0m\n",
      "\u001b[1;32m~\\Anaconda3\\lib\\urllib\\request.py\u001b[0m in \u001b[0;36m_call_chain\u001b[1;34m(self, chain, kind, meth_name, *args)\u001b[0m\n\u001b[0;32m    492\u001b[0m         \u001b[1;32mfor\u001b[0m \u001b[0mhandler\u001b[0m \u001b[1;32min\u001b[0m \u001b[0mhandlers\u001b[0m\u001b[1;33m:\u001b[0m\u001b[1;33m\u001b[0m\u001b[1;33m\u001b[0m\u001b[0m\n\u001b[0;32m    493\u001b[0m             \u001b[0mfunc\u001b[0m \u001b[1;33m=\u001b[0m \u001b[0mgetattr\u001b[0m\u001b[1;33m(\u001b[0m\u001b[0mhandler\u001b[0m\u001b[1;33m,\u001b[0m \u001b[0mmeth_name\u001b[0m\u001b[1;33m)\u001b[0m\u001b[1;33m\u001b[0m\u001b[1;33m\u001b[0m\u001b[0m\n\u001b[1;32m--> 494\u001b[1;33m             \u001b[0mresult\u001b[0m \u001b[1;33m=\u001b[0m \u001b[0mfunc\u001b[0m\u001b[1;33m(\u001b[0m\u001b[1;33m*\u001b[0m\u001b[0margs\u001b[0m\u001b[1;33m)\u001b[0m\u001b[1;33m\u001b[0m\u001b[1;33m\u001b[0m\u001b[0m\n\u001b[0m\u001b[0;32m    495\u001b[0m             \u001b[1;32mif\u001b[0m \u001b[0mresult\u001b[0m \u001b[1;32mis\u001b[0m \u001b[1;32mnot\u001b[0m \u001b[1;32mNone\u001b[0m\u001b[1;33m:\u001b[0m\u001b[1;33m\u001b[0m\u001b[1;33m\u001b[0m\u001b[0m\n\u001b[0;32m    496\u001b[0m                 \u001b[1;32mreturn\u001b[0m \u001b[0mresult\u001b[0m\u001b[1;33m\u001b[0m\u001b[1;33m\u001b[0m\u001b[0m\n",
      "\u001b[1;32m~\\Anaconda3\\lib\\urllib\\request.py\u001b[0m in \u001b[0;36mhttps_open\u001b[1;34m(self, req)\u001b[0m\n\u001b[0;32m   1387\u001b[0m \u001b[1;33m\u001b[0m\u001b[0m\n\u001b[0;32m   1388\u001b[0m         \u001b[1;32mdef\u001b[0m \u001b[0mhttps_open\u001b[0m\u001b[1;33m(\u001b[0m\u001b[0mself\u001b[0m\u001b[1;33m,\u001b[0m \u001b[0mreq\u001b[0m\u001b[1;33m)\u001b[0m\u001b[1;33m:\u001b[0m\u001b[1;33m\u001b[0m\u001b[1;33m\u001b[0m\u001b[0m\n\u001b[1;32m-> 1389\u001b[1;33m             return self.do_open(http.client.HTTPSConnection, req,\n\u001b[0m\u001b[0;32m   1390\u001b[0m                 context=self._context, check_hostname=self._check_hostname)\n\u001b[0;32m   1391\u001b[0m \u001b[1;33m\u001b[0m\u001b[0m\n",
      "\u001b[1;32m~\\Anaconda3\\lib\\urllib\\request.py\u001b[0m in \u001b[0;36mdo_open\u001b[1;34m(self, http_class, req, **http_conn_args)\u001b[0m\n\u001b[0;32m   1348\u001b[0m             \u001b[1;32mexcept\u001b[0m \u001b[0mOSError\u001b[0m \u001b[1;32mas\u001b[0m \u001b[0merr\u001b[0m\u001b[1;33m:\u001b[0m \u001b[1;31m# timeout error\u001b[0m\u001b[1;33m\u001b[0m\u001b[1;33m\u001b[0m\u001b[0m\n\u001b[0;32m   1349\u001b[0m                 \u001b[1;32mraise\u001b[0m \u001b[0mURLError\u001b[0m\u001b[1;33m(\u001b[0m\u001b[0merr\u001b[0m\u001b[1;33m)\u001b[0m\u001b[1;33m\u001b[0m\u001b[1;33m\u001b[0m\u001b[0m\n\u001b[1;32m-> 1350\u001b[1;33m             \u001b[0mr\u001b[0m \u001b[1;33m=\u001b[0m \u001b[0mh\u001b[0m\u001b[1;33m.\u001b[0m\u001b[0mgetresponse\u001b[0m\u001b[1;33m(\u001b[0m\u001b[1;33m)\u001b[0m\u001b[1;33m\u001b[0m\u001b[1;33m\u001b[0m\u001b[0m\n\u001b[0m\u001b[0;32m   1351\u001b[0m         \u001b[1;32mexcept\u001b[0m\u001b[1;33m:\u001b[0m\u001b[1;33m\u001b[0m\u001b[1;33m\u001b[0m\u001b[0m\n\u001b[0;32m   1352\u001b[0m             \u001b[0mh\u001b[0m\u001b[1;33m.\u001b[0m\u001b[0mclose\u001b[0m\u001b[1;33m(\u001b[0m\u001b[1;33m)\u001b[0m\u001b[1;33m\u001b[0m\u001b[1;33m\u001b[0m\u001b[0m\n",
      "\u001b[1;32m~\\Anaconda3\\lib\\http\\client.py\u001b[0m in \u001b[0;36mgetresponse\u001b[1;34m(self)\u001b[0m\n\u001b[0;32m   1369\u001b[0m         \u001b[1;32mtry\u001b[0m\u001b[1;33m:\u001b[0m\u001b[1;33m\u001b[0m\u001b[1;33m\u001b[0m\u001b[0m\n\u001b[0;32m   1370\u001b[0m             \u001b[1;32mtry\u001b[0m\u001b[1;33m:\u001b[0m\u001b[1;33m\u001b[0m\u001b[1;33m\u001b[0m\u001b[0m\n\u001b[1;32m-> 1371\u001b[1;33m                 \u001b[0mresponse\u001b[0m\u001b[1;33m.\u001b[0m\u001b[0mbegin\u001b[0m\u001b[1;33m(\u001b[0m\u001b[1;33m)\u001b[0m\u001b[1;33m\u001b[0m\u001b[1;33m\u001b[0m\u001b[0m\n\u001b[0m\u001b[0;32m   1372\u001b[0m             \u001b[1;32mexcept\u001b[0m \u001b[0mConnectionError\u001b[0m\u001b[1;33m:\u001b[0m\u001b[1;33m\u001b[0m\u001b[1;33m\u001b[0m\u001b[0m\n\u001b[0;32m   1373\u001b[0m                 \u001b[0mself\u001b[0m\u001b[1;33m.\u001b[0m\u001b[0mclose\u001b[0m\u001b[1;33m(\u001b[0m\u001b[1;33m)\u001b[0m\u001b[1;33m\u001b[0m\u001b[1;33m\u001b[0m\u001b[0m\n",
      "\u001b[1;32m~\\Anaconda3\\lib\\http\\client.py\u001b[0m in \u001b[0;36mbegin\u001b[1;34m(self)\u001b[0m\n\u001b[0;32m    317\u001b[0m         \u001b[1;31m# read until we get a non-100 response\u001b[0m\u001b[1;33m\u001b[0m\u001b[1;33m\u001b[0m\u001b[0m\n\u001b[0;32m    318\u001b[0m         \u001b[1;32mwhile\u001b[0m \u001b[1;32mTrue\u001b[0m\u001b[1;33m:\u001b[0m\u001b[1;33m\u001b[0m\u001b[1;33m\u001b[0m\u001b[0m\n\u001b[1;32m--> 319\u001b[1;33m             \u001b[0mversion\u001b[0m\u001b[1;33m,\u001b[0m \u001b[0mstatus\u001b[0m\u001b[1;33m,\u001b[0m \u001b[0mreason\u001b[0m \u001b[1;33m=\u001b[0m \u001b[0mself\u001b[0m\u001b[1;33m.\u001b[0m\u001b[0m_read_status\u001b[0m\u001b[1;33m(\u001b[0m\u001b[1;33m)\u001b[0m\u001b[1;33m\u001b[0m\u001b[1;33m\u001b[0m\u001b[0m\n\u001b[0m\u001b[0;32m    320\u001b[0m             \u001b[1;32mif\u001b[0m \u001b[0mstatus\u001b[0m \u001b[1;33m!=\u001b[0m \u001b[0mCONTINUE\u001b[0m\u001b[1;33m:\u001b[0m\u001b[1;33m\u001b[0m\u001b[1;33m\u001b[0m\u001b[0m\n\u001b[0;32m    321\u001b[0m                 \u001b[1;32mbreak\u001b[0m\u001b[1;33m\u001b[0m\u001b[1;33m\u001b[0m\u001b[0m\n",
      "\u001b[1;32m~\\Anaconda3\\lib\\http\\client.py\u001b[0m in \u001b[0;36m_read_status\u001b[1;34m(self)\u001b[0m\n\u001b[0;32m    278\u001b[0m \u001b[1;33m\u001b[0m\u001b[0m\n\u001b[0;32m    279\u001b[0m     \u001b[1;32mdef\u001b[0m \u001b[0m_read_status\u001b[0m\u001b[1;33m(\u001b[0m\u001b[0mself\u001b[0m\u001b[1;33m)\u001b[0m\u001b[1;33m:\u001b[0m\u001b[1;33m\u001b[0m\u001b[1;33m\u001b[0m\u001b[0m\n\u001b[1;32m--> 280\u001b[1;33m         \u001b[0mline\u001b[0m \u001b[1;33m=\u001b[0m \u001b[0mstr\u001b[0m\u001b[1;33m(\u001b[0m\u001b[0mself\u001b[0m\u001b[1;33m.\u001b[0m\u001b[0mfp\u001b[0m\u001b[1;33m.\u001b[0m\u001b[0mreadline\u001b[0m\u001b[1;33m(\u001b[0m\u001b[0m_MAXLINE\u001b[0m \u001b[1;33m+\u001b[0m \u001b[1;36m1\u001b[0m\u001b[1;33m)\u001b[0m\u001b[1;33m,\u001b[0m \u001b[1;34m\"iso-8859-1\"\u001b[0m\u001b[1;33m)\u001b[0m\u001b[1;33m\u001b[0m\u001b[1;33m\u001b[0m\u001b[0m\n\u001b[0m\u001b[0;32m    281\u001b[0m         \u001b[1;32mif\u001b[0m \u001b[0mlen\u001b[0m\u001b[1;33m(\u001b[0m\u001b[0mline\u001b[0m\u001b[1;33m)\u001b[0m \u001b[1;33m>\u001b[0m \u001b[0m_MAXLINE\u001b[0m\u001b[1;33m:\u001b[0m\u001b[1;33m\u001b[0m\u001b[1;33m\u001b[0m\u001b[0m\n\u001b[0;32m    282\u001b[0m             \u001b[1;32mraise\u001b[0m \u001b[0mLineTooLong\u001b[0m\u001b[1;33m(\u001b[0m\u001b[1;34m\"status line\"\u001b[0m\u001b[1;33m)\u001b[0m\u001b[1;33m\u001b[0m\u001b[1;33m\u001b[0m\u001b[0m\n",
      "\u001b[1;32m~\\Anaconda3\\lib\\socket.py\u001b[0m in \u001b[0;36mreadinto\u001b[1;34m(self, b)\u001b[0m\n\u001b[0;32m    702\u001b[0m         \u001b[1;32mwhile\u001b[0m \u001b[1;32mTrue\u001b[0m\u001b[1;33m:\u001b[0m\u001b[1;33m\u001b[0m\u001b[1;33m\u001b[0m\u001b[0m\n\u001b[0;32m    703\u001b[0m             \u001b[1;32mtry\u001b[0m\u001b[1;33m:\u001b[0m\u001b[1;33m\u001b[0m\u001b[1;33m\u001b[0m\u001b[0m\n\u001b[1;32m--> 704\u001b[1;33m                 \u001b[1;32mreturn\u001b[0m \u001b[0mself\u001b[0m\u001b[1;33m.\u001b[0m\u001b[0m_sock\u001b[0m\u001b[1;33m.\u001b[0m\u001b[0mrecv_into\u001b[0m\u001b[1;33m(\u001b[0m\u001b[0mb\u001b[0m\u001b[1;33m)\u001b[0m\u001b[1;33m\u001b[0m\u001b[1;33m\u001b[0m\u001b[0m\n\u001b[0m\u001b[0;32m    705\u001b[0m             \u001b[1;32mexcept\u001b[0m \u001b[0mtimeout\u001b[0m\u001b[1;33m:\u001b[0m\u001b[1;33m\u001b[0m\u001b[1;33m\u001b[0m\u001b[0m\n\u001b[0;32m    706\u001b[0m                 \u001b[0mself\u001b[0m\u001b[1;33m.\u001b[0m\u001b[0m_timeout_occurred\u001b[0m \u001b[1;33m=\u001b[0m \u001b[1;32mTrue\u001b[0m\u001b[1;33m\u001b[0m\u001b[1;33m\u001b[0m\u001b[0m\n",
      "\u001b[1;32m~\\Anaconda3\\lib\\ssl.py\u001b[0m in \u001b[0;36mrecv_into\u001b[1;34m(self, buffer, nbytes, flags)\u001b[0m\n\u001b[0;32m   1239\u001b[0m                   \u001b[1;34m\"non-zero flags not allowed in calls to recv_into() on %s\"\u001b[0m \u001b[1;33m%\u001b[0m\u001b[1;33m\u001b[0m\u001b[1;33m\u001b[0m\u001b[0m\n\u001b[0;32m   1240\u001b[0m                   self.__class__)\n\u001b[1;32m-> 1241\u001b[1;33m             \u001b[1;32mreturn\u001b[0m \u001b[0mself\u001b[0m\u001b[1;33m.\u001b[0m\u001b[0mread\u001b[0m\u001b[1;33m(\u001b[0m\u001b[0mnbytes\u001b[0m\u001b[1;33m,\u001b[0m \u001b[0mbuffer\u001b[0m\u001b[1;33m)\u001b[0m\u001b[1;33m\u001b[0m\u001b[1;33m\u001b[0m\u001b[0m\n\u001b[0m\u001b[0;32m   1242\u001b[0m         \u001b[1;32melse\u001b[0m\u001b[1;33m:\u001b[0m\u001b[1;33m\u001b[0m\u001b[1;33m\u001b[0m\u001b[0m\n\u001b[0;32m   1243\u001b[0m             \u001b[1;32mreturn\u001b[0m \u001b[0msuper\u001b[0m\u001b[1;33m(\u001b[0m\u001b[1;33m)\u001b[0m\u001b[1;33m.\u001b[0m\u001b[0mrecv_into\u001b[0m\u001b[1;33m(\u001b[0m\u001b[0mbuffer\u001b[0m\u001b[1;33m,\u001b[0m \u001b[0mnbytes\u001b[0m\u001b[1;33m,\u001b[0m \u001b[0mflags\u001b[0m\u001b[1;33m)\u001b[0m\u001b[1;33m\u001b[0m\u001b[1;33m\u001b[0m\u001b[0m\n",
      "\u001b[1;32m~\\Anaconda3\\lib\\ssl.py\u001b[0m in \u001b[0;36mread\u001b[1;34m(self, len, buffer)\u001b[0m\n\u001b[0;32m   1097\u001b[0m         \u001b[1;32mtry\u001b[0m\u001b[1;33m:\u001b[0m\u001b[1;33m\u001b[0m\u001b[1;33m\u001b[0m\u001b[0m\n\u001b[0;32m   1098\u001b[0m             \u001b[1;32mif\u001b[0m \u001b[0mbuffer\u001b[0m \u001b[1;32mis\u001b[0m \u001b[1;32mnot\u001b[0m \u001b[1;32mNone\u001b[0m\u001b[1;33m:\u001b[0m\u001b[1;33m\u001b[0m\u001b[1;33m\u001b[0m\u001b[0m\n\u001b[1;32m-> 1099\u001b[1;33m                 \u001b[1;32mreturn\u001b[0m \u001b[0mself\u001b[0m\u001b[1;33m.\u001b[0m\u001b[0m_sslobj\u001b[0m\u001b[1;33m.\u001b[0m\u001b[0mread\u001b[0m\u001b[1;33m(\u001b[0m\u001b[0mlen\u001b[0m\u001b[1;33m,\u001b[0m \u001b[0mbuffer\u001b[0m\u001b[1;33m)\u001b[0m\u001b[1;33m\u001b[0m\u001b[1;33m\u001b[0m\u001b[0m\n\u001b[0m\u001b[0;32m   1100\u001b[0m             \u001b[1;32melse\u001b[0m\u001b[1;33m:\u001b[0m\u001b[1;33m\u001b[0m\u001b[1;33m\u001b[0m\u001b[0m\n\u001b[0;32m   1101\u001b[0m                 \u001b[1;32mreturn\u001b[0m \u001b[0mself\u001b[0m\u001b[1;33m.\u001b[0m\u001b[0m_sslobj\u001b[0m\u001b[1;33m.\u001b[0m\u001b[0mread\u001b[0m\u001b[1;33m(\u001b[0m\u001b[0mlen\u001b[0m\u001b[1;33m)\u001b[0m\u001b[1;33m\u001b[0m\u001b[1;33m\u001b[0m\u001b[0m\n",
      "\u001b[1;31mKeyboardInterrupt\u001b[0m: "
     ]
    }
   ],
   "source": [
    "!pip install wget\n",
    "\n",
    "#instalando a lib findspark que ajuda a localizar o Spark no sistema e importa-lo como uma lib regular\n",
    "\n",
    "!pip install -q findspark\n",
    "\n",
    "\n",
    "#Instalando a versão mais recente do spark\n",
    "\n",
    "import wget\n",
    "\n",
    "\n",
    "url = 'https://dlcdn.apache.org/spark/spark-3.2.3/spark-3.2.3-bin-hadoop2.7.tgz'\n",
    "\n",
    "filename = wget.download(url)\n",
    "\n",
    "#despizar o spark\n",
    "\n",
    "import tarfile\n",
    "\n",
    "my_tar = tarfile.open('./spark-3.2.3-bin-hadoop2.7.tgz')\n",
    "\n",
    "my_tar.extractall('./') # specify which folder to extract to\n",
    "\n",
    "my_tar.close()"
   ]
  },
  {
   "cell_type": "code",
   "execution_count": 4,
   "id": "9492d535",
   "metadata": {},
   "outputs": [],
   "source": [
    "import os\n",
    "\n",
    "os.environ[\"JAVA_HOME\"] = \"C:/Program Files/Java/jre1.8.0_341\"\n",
    "\n",
    "os.environ[\"SPARK_HOME\"] = \"C:/Users/thiago.persiani/Desktop/Spark/PySpark/spark-3.2.3-bin-hadoop2.7\"\n",
    "\n",
    "#importar a lib findspark\n",
    "\n",
    "import findspark as fs\n",
    "\n",
    "fs.init()"
   ]
  },
  {
   "cell_type": "code",
   "execution_count": 5,
   "id": "f5b90a5f",
   "metadata": {},
   "outputs": [
    {
     "data": {
      "text/html": [
       "\n",
       "            <div>\n",
       "                <p><b>SparkSession - in-memory</b></p>\n",
       "                \n",
       "        <div>\n",
       "            <p><b>SparkContext</b></p>\n",
       "\n",
       "            <p><a href=\"http://WYAG53.webbytelecom.local.br:4040\">Spark UI</a></p>\n",
       "\n",
       "            <dl>\n",
       "              <dt>Version</dt>\n",
       "                <dd><code>v3.2.3</code></dd>\n",
       "              <dt>Master</dt>\n",
       "                <dd><code>local[*]</code></dd>\n",
       "              <dt>AppName</dt>\n",
       "                <dd><code>Regressao com Spark</code></dd>\n",
       "            </dl>\n",
       "        </div>\n",
       "        \n",
       "            </div>\n",
       "        "
      ],
      "text/plain": [
       "<pyspark.sql.session.SparkSession at 0x1c28af754c0>"
      ]
     },
     "execution_count": 5,
     "metadata": {},
     "output_type": "execute_result"
    }
   ],
   "source": [
    "#Criando o spark session\n",
    "from pyspark.sql import SparkSession\n",
    "\n",
    "spark = SparkSession.builder.master(\"local[*]\")\\\n",
    "        .appName(\"Regressao com Spark\")\\\n",
    "        .getOrCreate()\n",
    "\n",
    "spark"
   ]
  },
  {
   "cell_type": "code",
   "execution_count": 3,
   "id": "391789fc",
   "metadata": {},
   "outputs": [],
   "source": [
    "dados = spark.read.json(\n",
    "    './Json/imoveis.json'\n",
    ")"
   ]
  },
  {
   "cell_type": "code",
   "execution_count": 4,
   "id": "ba51288d",
   "metadata": {},
   "outputs": [
    {
     "data": {
      "text/plain": [
       "DataFrame[ident: struct<customerID:string,source:string>, listing: struct<address:struct<city:string,location:struct<lat:double,lon:double>,neighborhood:string,zone:string>,features:struct<bathrooms:bigint,bedrooms:bigint,floors:bigint,parkingSpaces:bigint,suites:bigint,totalAreas:string,unitFloor:bigint,unitsOnTheFloor:bigint,usableAreas:string>,prices:struct<price:string,tax:struct<condo:string,iptu:string>>,types:struct<unit:string,usage:string>>]"
      ]
     },
     "execution_count": 4,
     "metadata": {},
     "output_type": "execute_result"
    }
   ],
   "source": [
    "dados"
   ]
  },
  {
   "cell_type": "code",
   "execution_count": 5,
   "id": "bbff4477",
   "metadata": {},
   "outputs": [
    {
     "name": "stdout",
     "output_type": "stream",
     "text": [
      "+--------------------------+-----------------------------------------------------------------------------------------------------------------------------------------------------------------+\n",
      "|ident                     |listing                                                                                                                                                          |\n",
      "+--------------------------+-----------------------------------------------------------------------------------------------------------------------------------------------------------------+\n",
      "|{775564-BOJSMVON, Website}|{{Rio de Janeiro, {-22.909429, -43.413557}, Taquara, Zona Oeste}, {0, 0, 0, 1, 0, 62, 0, 0, 62}, {45000, {150, 0}}, {Outros, Residencial}}                       |\n",
      "|{660895-AUENKNYY, Website}|{{Rio de Janeiro, {-22.869698, -43.509141}, Santíssimo, Zona Oeste}, {1, 2, 0, 1, 0, 0, 0, 0, 44}, {45000, {120, 0}}, {Apartamento, Residencial}}                |\n",
      "|{751522-JESYFEQL, Website}|{{Rio de Janeiro, {-22.986927, -43.646786}, Pedra de Guaratiba, Zona Oeste}, {0, 0, 0, 0, 0, 132, 0, 0, 132}, {50000, {100, 0}}, {Outros, Residencial}}          |\n",
      "|{714052-GAAEWYKS, Website}|{{Rio de Janeiro, {-22.881977, -43.330818}, Cascadura, Zona Norte}, {1, 0, 0, 0, 0, 32, 3, 0, 32}, {45000, {468, 346}}, {Outros, Comercial}}                     |\n",
      "|{568886-ZIBFOMCC, Website}|{{Rio de Janeiro, {-23.027653, -43.480742}, Recreio dos Bandeirantes, Zona Oeste}, {2, 3, 3, 1, 1, 0, 2, 4, 60}, {50000, {400, 120}}, {Apartamento, Residencial}}|\n",
      "|{526755-OBLTYTEN, Website}|{{Rio de Janeiro, {-22.966059, -43.571183}, Guaratiba, Zona Oeste}, {0, 0, 0, 0, 0, 200, 0, 0, 200}, {50000, {0, null}}, {Outros, Residencial}}                  |\n",
      "|{593569-CJLMNFGW, Website}|{{Rio de Janeiro, {-22.939028, -43.3453}, Freguesia (Jacarepaguá), Zona Oeste}, {1, 0, 0, 0, 0, 25, 2, 0, 25}, {50000, {801, 211}}, {Outros, Comercial}}         |\n",
      "|{989181-RYJOLMCU, Website}|{{Rio de Janeiro, {-22.841509, -43.278855}, Penha, Zona Norte}, {1, 0, 0, 0, 0, 23, 0, 0, 23}, {50000, {230, null}}, {Outros, Comercial}}                        |\n",
      "|{145372-EZKAKSWM, Website}|{{Rio de Janeiro, {-22.835609, -43.392253}, Ricardo de Albuquerque, Zona Norte}, {0, 0, 0, 0, 0, 60, 0, 0, 60}, {45000, {null, null}}, {Outros, Comercial}}      |\n",
      "|{792086-NWNQTDYL, Website}|{{Rio de Janeiro, {-22.885306, -43.253044}, Jacarezinho, Zona Norte}, {1, 1, 0, 1, 0, 35, 0, 0, 33}, {45336, {0, 0}}, {Apartamento, Residencial}}                |\n",
      "|{339622-MNZGLKTZ, Website}|{{Rio de Janeiro, {-22.990425, -43.635505}, Guaratiba, Zona Oeste}, {0, 0, 0, 0, 0, 120, 0, 0, 120}, {45000, {0, 0}}, {Outros, Residencial}}                     |\n",
      "|{952338-SVULQMXR, Website}|{{Rio de Janeiro, {-22.877982, -43.651456}, Santa Cruz, Zona Oeste}, {0, 0, 0, 0, 0, 468, 0, 0, 468}, {45000, {0, 0}}, {Outros, Residencial}}                    |\n",
      "|{570439-LDICQOXZ, Website}|{{Rio de Janeiro, {-22.998183, -43.504337}, Vargem Grande, Zona Oeste}, {0, 0, 0, 0, 0, 180, 1, 0, 180}, {50000, {0, 0}}, {Outros, Residencial}}                 |\n",
      "|{684023-YTBNKLLO, Website}|{{Rio de Janeiro, {-22.843794, -43.512464}, Bangu, Zona Oeste}, {0, 0, 0, 0, 0, 128, 0, 0, 128}, {50000, {0, 0}}, {Outros, Residencial}}                         |\n",
      "|{629412-VKUMMAVR, Website}|{{Rio de Janeiro, {-22.91077, -43.37182}, Tanque, Zona Oeste}, {0, 0, 0, 0, 0, 82, 1, 0, 82}, {45000, {300, 0}}, {Outros, Residencial}}                          |\n",
      "|{041590-HMJIRKDX, Website}|{{Rio de Janeiro, {-22.910099, -43.17797}, Centro, Zona Central}, {0, 0, 0, 1, 0, 5, 0, 0, 5}, {45000, {0, 0}}, {Outros, Comercial}}                             |\n",
      "|{870098-XTRYJAGY, Website}|{{Rio de Janeiro, {-22.867219, -43.335067}, Madureira, Zona Norte}, {1, 0, 0, 0, 0, 350, 0, 0, 350}, {50000, {0, 1600}}, {Outros, Comercial}}                    |\n",
      "|{951104-MACIAPIS, Website}|{{Rio de Janeiro, {-22.897014, -43.201575}, Santo Cristo, Zona Central}, {2, 3, 20, 1, 1, 0, 20, 19, 70}, {45000, {350, 120}}, {Apartamento, Residencial}}       |\n",
      "|{375665-GHMFEZXX, Website}|{{Rio de Janeiro, {-22.902419, -43.20952}, Santo Cristo, Zona Central}, {2, 3, 20, 1, 1, 0, 20, 19, 70}, {50000, {350, 120}}, {Apartamento, Residencial}}        |\n",
      "|{441711-LRTWHRUA, Website}|{{Rio de Janeiro, {-22.989852, -43.623097}, Pedra de Guaratiba, Zona Oeste}, {1, 1, 0, 0, 0, 45, 2, 0, 37}, {50000, {0, 0}}, {Apartamento, Residencial}}         |\n",
      "+--------------------------+-----------------------------------------------------------------------------------------------------------------------------------------------------------------+\n",
      "only showing top 20 rows\n",
      "\n"
     ]
    }
   ],
   "source": [
    "dados.show(truncate=False)"
   ]
  },
  {
   "cell_type": "code",
   "execution_count": 6,
   "id": "802e2396",
   "metadata": {},
   "outputs": [
    {
     "data": {
      "text/plain": [
       "73615"
      ]
     },
     "execution_count": 6,
     "metadata": {},
     "output_type": "execute_result"
    }
   ],
   "source": [
    "dados.count()"
   ]
  },
  {
   "cell_type": "code",
   "execution_count": 7,
   "id": "c93864a6",
   "metadata": {},
   "outputs": [
    {
     "name": "stdout",
     "output_type": "stream",
     "text": [
      "root\n",
      " |-- ident: struct (nullable = true)\n",
      " |    |-- customerID: string (nullable = true)\n",
      " |    |-- source: string (nullable = true)\n",
      " |-- listing: struct (nullable = true)\n",
      " |    |-- address: struct (nullable = true)\n",
      " |    |    |-- city: string (nullable = true)\n",
      " |    |    |-- location: struct (nullable = true)\n",
      " |    |    |    |-- lat: double (nullable = true)\n",
      " |    |    |    |-- lon: double (nullable = true)\n",
      " |    |    |-- neighborhood: string (nullable = true)\n",
      " |    |    |-- zone: string (nullable = true)\n",
      " |    |-- features: struct (nullable = true)\n",
      " |    |    |-- bathrooms: long (nullable = true)\n",
      " |    |    |-- bedrooms: long (nullable = true)\n",
      " |    |    |-- floors: long (nullable = true)\n",
      " |    |    |-- parkingSpaces: long (nullable = true)\n",
      " |    |    |-- suites: long (nullable = true)\n",
      " |    |    |-- totalAreas: string (nullable = true)\n",
      " |    |    |-- unitFloor: long (nullable = true)\n",
      " |    |    |-- unitsOnTheFloor: long (nullable = true)\n",
      " |    |    |-- usableAreas: string (nullable = true)\n",
      " |    |-- prices: struct (nullable = true)\n",
      " |    |    |-- price: string (nullable = true)\n",
      " |    |    |-- tax: struct (nullable = true)\n",
      " |    |    |    |-- condo: string (nullable = true)\n",
      " |    |    |    |-- iptu: string (nullable = true)\n",
      " |    |-- types: struct (nullable = true)\n",
      " |    |    |-- unit: string (nullable = true)\n",
      " |    |    |-- usage: string (nullable = true)\n",
      "\n"
     ]
    }
   ],
   "source": [
    "dados.printSchema()"
   ]
  },
  {
   "cell_type": "code",
   "execution_count": 8,
   "id": "9eda6838",
   "metadata": {},
   "outputs": [
    {
     "name": "stdout",
     "output_type": "stream",
     "text": [
      "+---------------+--------------------------------------------------------------------------------+-------------------------------+---------------------+--------------------------+\n",
      "|customerID     |address                                                                         |features                       |prices               |types                     |\n",
      "+---------------+--------------------------------------------------------------------------------+-------------------------------+---------------------+--------------------------+\n",
      "|775564-BOJSMVON|{Rio de Janeiro, {-22.909429, -43.413557}, Taquara, Zona Oeste}                 |{0, 0, 0, 1, 0, 62, 0, 0, 62}  |{45000, {150, 0}}    |{Outros, Residencial}     |\n",
      "|660895-AUENKNYY|{Rio de Janeiro, {-22.869698, -43.509141}, Santíssimo, Zona Oeste}              |{1, 2, 0, 1, 0, 0, 0, 0, 44}   |{45000, {120, 0}}    |{Apartamento, Residencial}|\n",
      "|751522-JESYFEQL|{Rio de Janeiro, {-22.986927, -43.646786}, Pedra de Guaratiba, Zona Oeste}      |{0, 0, 0, 0, 0, 132, 0, 0, 132}|{50000, {100, 0}}    |{Outros, Residencial}     |\n",
      "|714052-GAAEWYKS|{Rio de Janeiro, {-22.881977, -43.330818}, Cascadura, Zona Norte}               |{1, 0, 0, 0, 0, 32, 3, 0, 32}  |{45000, {468, 346}}  |{Outros, Comercial}       |\n",
      "|568886-ZIBFOMCC|{Rio de Janeiro, {-23.027653, -43.480742}, Recreio dos Bandeirantes, Zona Oeste}|{2, 3, 3, 1, 1, 0, 2, 4, 60}   |{50000, {400, 120}}  |{Apartamento, Residencial}|\n",
      "|526755-OBLTYTEN|{Rio de Janeiro, {-22.966059, -43.571183}, Guaratiba, Zona Oeste}               |{0, 0, 0, 0, 0, 200, 0, 0, 200}|{50000, {0, null}}   |{Outros, Residencial}     |\n",
      "|593569-CJLMNFGW|{Rio de Janeiro, {-22.939028, -43.3453}, Freguesia (Jacarepaguá), Zona Oeste}   |{1, 0, 0, 0, 0, 25, 2, 0, 25}  |{50000, {801, 211}}  |{Outros, Comercial}       |\n",
      "|989181-RYJOLMCU|{Rio de Janeiro, {-22.841509, -43.278855}, Penha, Zona Norte}                   |{1, 0, 0, 0, 0, 23, 0, 0, 23}  |{50000, {230, null}} |{Outros, Comercial}       |\n",
      "|145372-EZKAKSWM|{Rio de Janeiro, {-22.835609, -43.392253}, Ricardo de Albuquerque, Zona Norte}  |{0, 0, 0, 0, 0, 60, 0, 0, 60}  |{45000, {null, null}}|{Outros, Comercial}       |\n",
      "|792086-NWNQTDYL|{Rio de Janeiro, {-22.885306, -43.253044}, Jacarezinho, Zona Norte}             |{1, 1, 0, 1, 0, 35, 0, 0, 33}  |{45336, {0, 0}}      |{Apartamento, Residencial}|\n",
      "|339622-MNZGLKTZ|{Rio de Janeiro, {-22.990425, -43.635505}, Guaratiba, Zona Oeste}               |{0, 0, 0, 0, 0, 120, 0, 0, 120}|{45000, {0, 0}}      |{Outros, Residencial}     |\n",
      "|952338-SVULQMXR|{Rio de Janeiro, {-22.877982, -43.651456}, Santa Cruz, Zona Oeste}              |{0, 0, 0, 0, 0, 468, 0, 0, 468}|{45000, {0, 0}}      |{Outros, Residencial}     |\n",
      "|570439-LDICQOXZ|{Rio de Janeiro, {-22.998183, -43.504337}, Vargem Grande, Zona Oeste}           |{0, 0, 0, 0, 0, 180, 1, 0, 180}|{50000, {0, 0}}      |{Outros, Residencial}     |\n",
      "|684023-YTBNKLLO|{Rio de Janeiro, {-22.843794, -43.512464}, Bangu, Zona Oeste}                   |{0, 0, 0, 0, 0, 128, 0, 0, 128}|{50000, {0, 0}}      |{Outros, Residencial}     |\n",
      "|629412-VKUMMAVR|{Rio de Janeiro, {-22.91077, -43.37182}, Tanque, Zona Oeste}                    |{0, 0, 0, 0, 0, 82, 1, 0, 82}  |{45000, {300, 0}}    |{Outros, Residencial}     |\n",
      "|041590-HMJIRKDX|{Rio de Janeiro, {-22.910099, -43.17797}, Centro, Zona Central}                 |{0, 0, 0, 1, 0, 5, 0, 0, 5}    |{45000, {0, 0}}      |{Outros, Comercial}       |\n",
      "|870098-XTRYJAGY|{Rio de Janeiro, {-22.867219, -43.335067}, Madureira, Zona Norte}               |{1, 0, 0, 0, 0, 350, 0, 0, 350}|{50000, {0, 1600}}   |{Outros, Comercial}       |\n",
      "|951104-MACIAPIS|{Rio de Janeiro, {-22.897014, -43.201575}, Santo Cristo, Zona Central}          |{2, 3, 20, 1, 1, 0, 20, 19, 70}|{45000, {350, 120}}  |{Apartamento, Residencial}|\n",
      "|375665-GHMFEZXX|{Rio de Janeiro, {-22.902419, -43.20952}, Santo Cristo, Zona Central}           |{2, 3, 20, 1, 1, 0, 20, 19, 70}|{50000, {350, 120}}  |{Apartamento, Residencial}|\n",
      "|441711-LRTWHRUA|{Rio de Janeiro, {-22.989852, -43.623097}, Pedra de Guaratiba, Zona Oeste}      |{1, 1, 0, 0, 0, 45, 2, 0, 37}  |{50000, {0, 0}}      |{Apartamento, Residencial}|\n",
      "+---------------+--------------------------------------------------------------------------------+-------------------------------+---------------------+--------------------------+\n",
      "only showing top 20 rows\n",
      "\n"
     ]
    }
   ],
   "source": [
    "dados\\\n",
    "    .select('ident.customerID', 'listing.*')\\\n",
    "    .show(truncate=False)"
   ]
  },
  {
   "cell_type": "code",
   "execution_count": 9,
   "id": "4d673596",
   "metadata": {},
   "outputs": [
    {
     "name": "stdout",
     "output_type": "stream",
     "text": [
      "+---------------+-----------+-----------+---------+--------+------+-------------+------+---------+---------------+-----------+------------------------+------------+-----+------------+\n",
      "|customerID     |unit       |usage      |bathrooms|bedrooms|floors|parkingSpaces|suites|unitFloor|unitsOnTheFloor|usableAreas|neighborhood            |zone        |price|tax         |\n",
      "+---------------+-----------+-----------+---------+--------+------+-------------+------+---------+---------------+-----------+------------------------+------------+-----+------------+\n",
      "|775564-BOJSMVON|Outros     |Residencial|0        |0       |0     |1            |0     |0        |0              |62         |Taquara                 |Zona Oeste  |45000|{150, 0}    |\n",
      "|660895-AUENKNYY|Apartamento|Residencial|1        |2       |0     |1            |0     |0        |0              |44         |Santíssimo              |Zona Oeste  |45000|{120, 0}    |\n",
      "|751522-JESYFEQL|Outros     |Residencial|0        |0       |0     |0            |0     |0        |0              |132        |Pedra de Guaratiba      |Zona Oeste  |50000|{100, 0}    |\n",
      "|714052-GAAEWYKS|Outros     |Comercial  |1        |0       |0     |0            |0     |3        |0              |32         |Cascadura               |Zona Norte  |45000|{468, 346}  |\n",
      "|568886-ZIBFOMCC|Apartamento|Residencial|2        |3       |3     |1            |1     |2        |4              |60         |Recreio dos Bandeirantes|Zona Oeste  |50000|{400, 120}  |\n",
      "|526755-OBLTYTEN|Outros     |Residencial|0        |0       |0     |0            |0     |0        |0              |200        |Guaratiba               |Zona Oeste  |50000|{0, null}   |\n",
      "|593569-CJLMNFGW|Outros     |Comercial  |1        |0       |0     |0            |0     |2        |0              |25         |Freguesia (Jacarepaguá) |Zona Oeste  |50000|{801, 211}  |\n",
      "|989181-RYJOLMCU|Outros     |Comercial  |1        |0       |0     |0            |0     |0        |0              |23         |Penha                   |Zona Norte  |50000|{230, null} |\n",
      "|145372-EZKAKSWM|Outros     |Comercial  |0        |0       |0     |0            |0     |0        |0              |60         |Ricardo de Albuquerque  |Zona Norte  |45000|{null, null}|\n",
      "|792086-NWNQTDYL|Apartamento|Residencial|1        |1       |0     |1            |0     |0        |0              |33         |Jacarezinho             |Zona Norte  |45336|{0, 0}      |\n",
      "|339622-MNZGLKTZ|Outros     |Residencial|0        |0       |0     |0            |0     |0        |0              |120        |Guaratiba               |Zona Oeste  |45000|{0, 0}      |\n",
      "|952338-SVULQMXR|Outros     |Residencial|0        |0       |0     |0            |0     |0        |0              |468        |Santa Cruz              |Zona Oeste  |45000|{0, 0}      |\n",
      "|570439-LDICQOXZ|Outros     |Residencial|0        |0       |0     |0            |0     |1        |0              |180        |Vargem Grande           |Zona Oeste  |50000|{0, 0}      |\n",
      "|684023-YTBNKLLO|Outros     |Residencial|0        |0       |0     |0            |0     |0        |0              |128        |Bangu                   |Zona Oeste  |50000|{0, 0}      |\n",
      "|629412-VKUMMAVR|Outros     |Residencial|0        |0       |0     |0            |0     |1        |0              |82         |Tanque                  |Zona Oeste  |45000|{300, 0}    |\n",
      "|041590-HMJIRKDX|Outros     |Comercial  |0        |0       |0     |1            |0     |0        |0              |5          |Centro                  |Zona Central|45000|{0, 0}      |\n",
      "|870098-XTRYJAGY|Outros     |Comercial  |1        |0       |0     |0            |0     |0        |0              |350        |Madureira               |Zona Norte  |50000|{0, 1600}   |\n",
      "|951104-MACIAPIS|Apartamento|Residencial|2        |3       |20    |1            |1     |20       |19             |70         |Santo Cristo            |Zona Central|45000|{350, 120}  |\n",
      "|375665-GHMFEZXX|Apartamento|Residencial|2        |3       |20    |1            |1     |20       |19             |70         |Santo Cristo            |Zona Central|50000|{350, 120}  |\n",
      "|441711-LRTWHRUA|Apartamento|Residencial|1        |1       |0     |0            |0     |2        |0              |37         |Pedra de Guaratiba      |Zona Oeste  |50000|{0, 0}      |\n",
      "+---------------+-----------+-----------+---------+--------+------+-------------+------+---------+---------------+-----------+------------------------+------------+-----+------------+\n",
      "only showing top 20 rows\n",
      "\n"
     ]
    }
   ],
   "source": [
    "dados\\\n",
    "    .select('ident.customerID', 'listing.types.*', 'listing.features.*',  'listing.address.*', 'listing.prices.price','listing.prices.tax')\\\n",
    "    .drop('city', 'location', 'totalAreas')\\\n",
    "    .show(truncate=False)"
   ]
  },
  {
   "cell_type": "code",
   "execution_count": 10,
   "id": "7fcd717e",
   "metadata": {},
   "outputs": [],
   "source": [
    "#fazendo a seleção das features \n",
    "dataset = dados\\\n",
    "    .select('ident.customerID', 'listing.types.*', 'listing.features.*',  'listing.address.*', 'listing.prices.price','listing.prices.tax.*')\\\n",
    "    .drop('city', 'location', 'totalAreas','tax')"
   ]
  },
  {
   "cell_type": "code",
   "execution_count": 11,
   "id": "7b70d8a3",
   "metadata": {},
   "outputs": [
    {
     "name": "stdout",
     "output_type": "stream",
     "text": [
      "root\n",
      " |-- customerID: string (nullable = true)\n",
      " |-- unit: string (nullable = true)\n",
      " |-- usage: string (nullable = true)\n",
      " |-- bathrooms: long (nullable = true)\n",
      " |-- bedrooms: long (nullable = true)\n",
      " |-- floors: long (nullable = true)\n",
      " |-- parkingSpaces: long (nullable = true)\n",
      " |-- suites: long (nullable = true)\n",
      " |-- unitFloor: long (nullable = true)\n",
      " |-- unitsOnTheFloor: long (nullable = true)\n",
      " |-- usableAreas: string (nullable = true)\n",
      " |-- neighborhood: string (nullable = true)\n",
      " |-- zone: string (nullable = true)\n",
      " |-- price: string (nullable = true)\n",
      " |-- condo: string (nullable = true)\n",
      " |-- iptu: string (nullable = true)\n",
      "\n"
     ]
    }
   ],
   "source": [
    "dataset.printSchema()"
   ]
  },
  {
   "cell_type": "code",
   "execution_count": 12,
   "id": "2168ad97",
   "metadata": {},
   "outputs": [],
   "source": [
    "from pyspark.sql.types import IntegerType,DoubleType"
   ]
  },
  {
   "cell_type": "code",
   "execution_count": 13,
   "id": "d41d13f9",
   "metadata": {},
   "outputs": [],
   "source": [
    "#Convertendo os tipos das colunas\n",
    "dataset = dataset\\\n",
    "    .withColumn('usableAreas' , dataset['usableAreas'].cast(IntegerType()))\\\n",
    "    .withColumn('price', dataset['price'].cast(DoubleType()))\\\n",
    "    .withColumn('condo', dataset['condo'].cast(DoubleType()))\\\n",
    "    .withColumn('iptu', dataset['iptu'].cast(DoubleType()))"
   ]
  },
  {
   "cell_type": "code",
   "execution_count": 14,
   "id": "d8613e19",
   "metadata": {},
   "outputs": [
    {
     "name": "stdout",
     "output_type": "stream",
     "text": [
      "+---------------+-----------+-----------+---------+--------+------+-------------+------+---------+---------------+-----------+--------------------+------------+-------+-----+------+\n",
      "|     customerID|       unit|      usage|bathrooms|bedrooms|floors|parkingSpaces|suites|unitFloor|unitsOnTheFloor|usableAreas|        neighborhood|        zone|  price|condo|  iptu|\n",
      "+---------------+-----------+-----------+---------+--------+------+-------------+------+---------+---------------+-----------+--------------------+------------+-------+-----+------+\n",
      "|775564-BOJSMVON|     Outros|Residencial|        0|       0|     0|            1|     0|        0|              0|         62|             Taquara|  Zona Oeste|45000.0|150.0|   0.0|\n",
      "|660895-AUENKNYY|Apartamento|Residencial|        1|       2|     0|            1|     0|        0|              0|         44|          Santíssimo|  Zona Oeste|45000.0|120.0|   0.0|\n",
      "|751522-JESYFEQL|     Outros|Residencial|        0|       0|     0|            0|     0|        0|              0|        132|  Pedra de Guaratiba|  Zona Oeste|50000.0|100.0|   0.0|\n",
      "|714052-GAAEWYKS|     Outros|  Comercial|        1|       0|     0|            0|     0|        3|              0|         32|           Cascadura|  Zona Norte|45000.0|468.0| 346.0|\n",
      "|568886-ZIBFOMCC|Apartamento|Residencial|        2|       3|     3|            1|     1|        2|              4|         60|Recreio dos Bande...|  Zona Oeste|50000.0|400.0| 120.0|\n",
      "|526755-OBLTYTEN|     Outros|Residencial|        0|       0|     0|            0|     0|        0|              0|        200|           Guaratiba|  Zona Oeste|50000.0|  0.0|  null|\n",
      "|593569-CJLMNFGW|     Outros|  Comercial|        1|       0|     0|            0|     0|        2|              0|         25|Freguesia (Jacare...|  Zona Oeste|50000.0|801.0| 211.0|\n",
      "|989181-RYJOLMCU|     Outros|  Comercial|        1|       0|     0|            0|     0|        0|              0|         23|               Penha|  Zona Norte|50000.0|230.0|  null|\n",
      "|145372-EZKAKSWM|     Outros|  Comercial|        0|       0|     0|            0|     0|        0|              0|         60|Ricardo de Albuqu...|  Zona Norte|45000.0| null|  null|\n",
      "|792086-NWNQTDYL|Apartamento|Residencial|        1|       1|     0|            1|     0|        0|              0|         33|         Jacarezinho|  Zona Norte|45336.0|  0.0|   0.0|\n",
      "|339622-MNZGLKTZ|     Outros|Residencial|        0|       0|     0|            0|     0|        0|              0|        120|           Guaratiba|  Zona Oeste|45000.0|  0.0|   0.0|\n",
      "|952338-SVULQMXR|     Outros|Residencial|        0|       0|     0|            0|     0|        0|              0|        468|          Santa Cruz|  Zona Oeste|45000.0|  0.0|   0.0|\n",
      "|570439-LDICQOXZ|     Outros|Residencial|        0|       0|     0|            0|     0|        1|              0|        180|       Vargem Grande|  Zona Oeste|50000.0|  0.0|   0.0|\n",
      "|684023-YTBNKLLO|     Outros|Residencial|        0|       0|     0|            0|     0|        0|              0|        128|               Bangu|  Zona Oeste|50000.0|  0.0|   0.0|\n",
      "|629412-VKUMMAVR|     Outros|Residencial|        0|       0|     0|            0|     0|        1|              0|         82|              Tanque|  Zona Oeste|45000.0|300.0|   0.0|\n",
      "|041590-HMJIRKDX|     Outros|  Comercial|        0|       0|     0|            1|     0|        0|              0|          5|              Centro|Zona Central|45000.0|  0.0|   0.0|\n",
      "|870098-XTRYJAGY|     Outros|  Comercial|        1|       0|     0|            0|     0|        0|              0|        350|           Madureira|  Zona Norte|50000.0|  0.0|1600.0|\n",
      "|951104-MACIAPIS|Apartamento|Residencial|        2|       3|    20|            1|     1|       20|             19|         70|        Santo Cristo|Zona Central|45000.0|350.0| 120.0|\n",
      "|375665-GHMFEZXX|Apartamento|Residencial|        2|       3|    20|            1|     1|       20|             19|         70|        Santo Cristo|Zona Central|50000.0|350.0| 120.0|\n",
      "|441711-LRTWHRUA|Apartamento|Residencial|        1|       1|     0|            0|     0|        2|              0|         37|  Pedra de Guaratiba|  Zona Oeste|50000.0|  0.0|   0.0|\n",
      "+---------------+-----------+-----------+---------+--------+------+-------------+------+---------+---------------+-----------+--------------------+------------+-------+-----+------+\n",
      "only showing top 20 rows\n",
      "\n"
     ]
    }
   ],
   "source": [
    "dataset.show()"
   ]
  },
  {
   "cell_type": "code",
   "execution_count": 15,
   "id": "94c467f1",
   "metadata": {},
   "outputs": [
    {
     "name": "stdout",
     "output_type": "stream",
     "text": [
      "+-----------+-----+\n",
      "|      usage|count|\n",
      "+-----------+-----+\n",
      "|  Comercial| 4019|\n",
      "|Residencial|69596|\n",
      "+-----------+-----+\n",
      "\n"
     ]
    }
   ],
   "source": [
    "dataset\\\n",
    "    .select('usage')\\\n",
    "    .groupBy('usage')\\\n",
    "    .count()\\\n",
    "    .show()"
   ]
  },
  {
   "cell_type": "code",
   "execution_count": 16,
   "id": "4c7b6d6e",
   "metadata": {},
   "outputs": [],
   "source": [
    "dataset = dataset\\\n",
    "          .select('*')\\\n",
    "          .where('usage==\"Residencial\"')"
   ]
  },
  {
   "cell_type": "code",
   "execution_count": 17,
   "id": "8d5983d4",
   "metadata": {},
   "outputs": [
    {
     "name": "stdout",
     "output_type": "stream",
     "text": [
      "+-----------+-----+\n",
      "|       unit|count|\n",
      "+-----------+-----+\n",
      "|     Outros| 1190|\n",
      "|Apartamento|59106|\n",
      "|       Casa| 9300|\n",
      "+-----------+-----+\n",
      "\n"
     ]
    }
   ],
   "source": [
    "dataset\\\n",
    "    .select('unit')\\\n",
    "    .groupBy('unit')\\\n",
    "    .count()\\\n",
    "    .show()"
   ]
  },
  {
   "cell_type": "code",
   "execution_count": 18,
   "id": "20b72c9d",
   "metadata": {},
   "outputs": [
    {
     "name": "stdout",
     "output_type": "stream",
     "text": [
      "+------------+-----+\n",
      "|        zone|count|\n",
      "+------------+-----+\n",
      "|  Zona Norte|14379|\n",
      "|  Zona Oeste|35523|\n",
      "|Zona Central| 1002|\n",
      "|    Zona Sul|18535|\n",
      "|            |  157|\n",
      "+------------+-----+\n",
      "\n"
     ]
    }
   ],
   "source": [
    "dataset\\\n",
    "    .select('zone')\\\n",
    "    .groupBy('zone')\\\n",
    "    .count()\\\n",
    "    .show()"
   ]
  },
  {
   "cell_type": "code",
   "execution_count": 19,
   "id": "4f4f9c82",
   "metadata": {},
   "outputs": [],
   "source": [
    "#Verificando e extraindo do dataset os registros com valor nulo\n",
    "from pyspark.sql import functions as f"
   ]
  },
  {
   "cell_type": "code",
   "execution_count": 20,
   "id": "6843f02e",
   "metadata": {},
   "outputs": [
    {
     "name": "stdout",
     "output_type": "stream",
     "text": [
      "+---------------+-----------+-----------+---------+--------+------+-------------+------+---------+---------------+-----------+--------------------+------------+-------+-----+-----+\n",
      "|     customerID|       unit|      usage|bathrooms|bedrooms|floors|parkingSpaces|suites|unitFloor|unitsOnTheFloor|usableAreas|        neighborhood|        zone|  price|condo| iptu|\n",
      "+---------------+-----------+-----------+---------+--------+------+-------------+------+---------+---------------+-----------+--------------------+------------+-------+-----+-----+\n",
      "|775564-BOJSMVON|     Outros|Residencial|        0|       0|     0|            1|     0|        0|              0|         62|             Taquara|  Zona Oeste|45000.0|150.0|  0.0|\n",
      "|660895-AUENKNYY|Apartamento|Residencial|        1|       2|     0|            1|     0|        0|              0|         44|          Santíssimo|  Zona Oeste|45000.0|120.0|  0.0|\n",
      "|751522-JESYFEQL|     Outros|Residencial|        0|       0|     0|            0|     0|        0|              0|        132|  Pedra de Guaratiba|  Zona Oeste|50000.0|100.0|  0.0|\n",
      "|568886-ZIBFOMCC|Apartamento|Residencial|        2|       3|     3|            1|     1|        2|              4|         60|Recreio dos Bande...|  Zona Oeste|50000.0|400.0|120.0|\n",
      "|526755-OBLTYTEN|     Outros|Residencial|        0|       0|     0|            0|     0|        0|              0|        200|           Guaratiba|  Zona Oeste|50000.0|  0.0| null|\n",
      "|792086-NWNQTDYL|Apartamento|Residencial|        1|       1|     0|            1|     0|        0|              0|         33|         Jacarezinho|  Zona Norte|45336.0|  0.0|  0.0|\n",
      "|339622-MNZGLKTZ|     Outros|Residencial|        0|       0|     0|            0|     0|        0|              0|        120|           Guaratiba|  Zona Oeste|45000.0|  0.0|  0.0|\n",
      "|952338-SVULQMXR|     Outros|Residencial|        0|       0|     0|            0|     0|        0|              0|        468|          Santa Cruz|  Zona Oeste|45000.0|  0.0|  0.0|\n",
      "|570439-LDICQOXZ|     Outros|Residencial|        0|       0|     0|            0|     0|        1|              0|        180|       Vargem Grande|  Zona Oeste|50000.0|  0.0|  0.0|\n",
      "|684023-YTBNKLLO|     Outros|Residencial|        0|       0|     0|            0|     0|        0|              0|        128|               Bangu|  Zona Oeste|50000.0|  0.0|  0.0|\n",
      "|629412-VKUMMAVR|     Outros|Residencial|        0|       0|     0|            0|     0|        1|              0|         82|              Tanque|  Zona Oeste|45000.0|300.0|  0.0|\n",
      "|951104-MACIAPIS|Apartamento|Residencial|        2|       3|    20|            1|     1|       20|             19|         70|        Santo Cristo|Zona Central|45000.0|350.0|120.0|\n",
      "|375665-GHMFEZXX|Apartamento|Residencial|        2|       3|    20|            1|     1|       20|             19|         70|        Santo Cristo|Zona Central|50000.0|350.0|120.0|\n",
      "|441711-LRTWHRUA|Apartamento|Residencial|        1|       1|     0|            0|     0|        2|              0|         37|  Pedra de Guaratiba|  Zona Oeste|50000.0|  0.0|  0.0|\n",
      "|221946-ENAQETGD|     Outros|Residencial|        0|       0|     0|            0|     0|        0|              0|        120|           Guaratiba|  Zona Oeste|45020.0|  0.0|  0.0|\n",
      "|023787-PTASXXTL|     Outros|Residencial|        0|       0|     0|            0|     0|        0|              0|        120|           Guaratiba|  Zona Oeste|45040.0|  0.0|  0.0|\n",
      "|385687-SWOBLUWG|     Outros|Residencial|        0|       0|     0|            0|     0|        0|              0|        150|          Santa Cruz|  Zona Oeste|45000.0|  0.0|  0.0|\n",
      "|037953-VZOABKON|Apartamento|Residencial|        1|       2|     0|            1|     0|        0|              0|         30|         Coelho Neto|  Zona Norte|45000.0| null|  0.0|\n",
      "|913561-GIAMXOYU|     Outros|Residencial|        0|       0|     0|            0|     0|        0|              0|        128|           Guaratiba|  Zona Oeste|45000.0|  0.0|  0.0|\n",
      "|511928-EYKXPKBU|     Outros|Residencial|        0|       0|     0|            0|     0|        0|              0|        120|           Guaratiba|  Zona Oeste|45070.0|  0.0|  0.0|\n",
      "+---------------+-----------+-----------+---------+--------+------+-------------+------+---------+---------------+-----------+--------------------+------------+-------+-----+-----+\n",
      "only showing top 20 rows\n",
      "\n"
     ]
    }
   ],
   "source": [
    "dataset.show()"
   ]
  },
  {
   "cell_type": "code",
   "execution_count": 21,
   "id": "904aabdc",
   "metadata": {},
   "outputs": [
    {
     "name": "stdout",
     "output_type": "stream",
     "text": [
      "+----------+----+-----+---------+--------+------+-------------+------+---------+---------------+-----------+------------+----+-----+-----+----+\n",
      "|customerID|unit|usage|bathrooms|bedrooms|floors|parkingSpaces|suites|unitFloor|unitsOnTheFloor|usableAreas|neighborhood|zone|price|condo|iptu|\n",
      "+----------+----+-----+---------+--------+------+-------------+------+---------+---------------+-----------+------------+----+-----+-----+----+\n",
      "|         0|   0|    0|        0|       0|     0|            0|     0|        0|              0|          0|           0|   0|    0| 6061|8726|\n",
      "+----------+----+-----+---------+--------+------+-------------+------+---------+---------------+-----------+------------+----+-----+-----+----+\n",
      "\n"
     ]
    }
   ],
   "source": [
    "#Fazendo select em todas as colunas e contando quantos registros cada uma tem um registro nulo\n",
    "dataset\\\n",
    "    .select([f.count(f.when(f.isnan(c) | f.isnull(c),True)).alias(c) for c in dataset.columns])\\\n",
    "    .show()"
   ]
  },
  {
   "cell_type": "code",
   "execution_count": 22,
   "id": "c23e0643",
   "metadata": {},
   "outputs": [],
   "source": [
    "#Removendo as colunas com registros nulos\n",
    "dataset = dataset\\\n",
    "    .select('*')\\\n",
    "    .na\\\n",
    "    .fill(0)"
   ]
  },
  {
   "cell_type": "code",
   "execution_count": 23,
   "id": "18ad18f2",
   "metadata": {},
   "outputs": [
    {
     "name": "stdout",
     "output_type": "stream",
     "text": [
      "+----------+----+-----+---------+--------+------+-------------+------+---------+---------------+-----------+------------+----+-----+-----+----+\n",
      "|customerID|unit|usage|bathrooms|bedrooms|floors|parkingSpaces|suites|unitFloor|unitsOnTheFloor|usableAreas|neighborhood|zone|price|condo|iptu|\n",
      "+----------+----+-----+---------+--------+------+-------------+------+---------+---------------+-----------+------------+----+-----+-----+----+\n",
      "|         0|   0|    0|        0|       0|     0|            0|     0|        0|              0|          0|           0|   0|    0|    0|   0|\n",
      "+----------+----+-----+---------+--------+------+-------------+------+---------+---------------+-----------+------------+----+-----+-----+----+\n",
      "\n"
     ]
    }
   ],
   "source": [
    "dataset\\\n",
    "    .select([f.count(f.when(f.isnan(c) | f.isnull(c), True)).alias(c) for c in dataset.columns])\\\n",
    "    .show()"
   ]
  },
  {
   "cell_type": "code",
   "execution_count": 24,
   "id": "97695a6e",
   "metadata": {},
   "outputs": [
    {
     "name": "stdout",
     "output_type": "stream",
     "text": [
      "+------------+-----+\n",
      "|        zone|count|\n",
      "+------------+-----+\n",
      "|  Zona Norte|14379|\n",
      "|  Zona Oeste|35523|\n",
      "|Zona Central| 1002|\n",
      "|    Zona Sul|18535|\n",
      "|            |  157|\n",
      "+------------+-----+\n",
      "\n"
     ]
    }
   ],
   "source": [
    "dataset\\\n",
    "    .select('zone')\\\n",
    "    .groupBy('zone')\\\n",
    "    .count()\\\n",
    "    .show()"
   ]
  },
  {
   "cell_type": "code",
   "execution_count": 25,
   "id": "b7300234",
   "metadata": {},
   "outputs": [],
   "source": [
    "dataset = dataset\\\n",
    "          .where(f.col('zone') !='')"
   ]
  },
  {
   "cell_type": "code",
   "execution_count": 26,
   "id": "d1fd96b5",
   "metadata": {},
   "outputs": [
    {
     "name": "stdout",
     "output_type": "stream",
     "text": [
      "+---------------+-----------+-----------+---------+--------+------+-------------+------+---------+---------------+-----------+--------------------+------------+-------+-----+-----+\n",
      "|     customerID|       unit|      usage|bathrooms|bedrooms|floors|parkingSpaces|suites|unitFloor|unitsOnTheFloor|usableAreas|        neighborhood|        zone|  price|condo| iptu|\n",
      "+---------------+-----------+-----------+---------+--------+------+-------------+------+---------+---------------+-----------+--------------------+------------+-------+-----+-----+\n",
      "|775564-BOJSMVON|     Outros|Residencial|        0|       0|     0|            1|     0|        0|              0|         62|             Taquara|  Zona Oeste|45000.0|150.0|  0.0|\n",
      "|660895-AUENKNYY|Apartamento|Residencial|        1|       2|     0|            1|     0|        0|              0|         44|          Santíssimo|  Zona Oeste|45000.0|120.0|  0.0|\n",
      "|751522-JESYFEQL|     Outros|Residencial|        0|       0|     0|            0|     0|        0|              0|        132|  Pedra de Guaratiba|  Zona Oeste|50000.0|100.0|  0.0|\n",
      "|568886-ZIBFOMCC|Apartamento|Residencial|        2|       3|     3|            1|     1|        2|              4|         60|Recreio dos Bande...|  Zona Oeste|50000.0|400.0|120.0|\n",
      "|526755-OBLTYTEN|     Outros|Residencial|        0|       0|     0|            0|     0|        0|              0|        200|           Guaratiba|  Zona Oeste|50000.0|  0.0|  0.0|\n",
      "|792086-NWNQTDYL|Apartamento|Residencial|        1|       1|     0|            1|     0|        0|              0|         33|         Jacarezinho|  Zona Norte|45336.0|  0.0|  0.0|\n",
      "|339622-MNZGLKTZ|     Outros|Residencial|        0|       0|     0|            0|     0|        0|              0|        120|           Guaratiba|  Zona Oeste|45000.0|  0.0|  0.0|\n",
      "|952338-SVULQMXR|     Outros|Residencial|        0|       0|     0|            0|     0|        0|              0|        468|          Santa Cruz|  Zona Oeste|45000.0|  0.0|  0.0|\n",
      "|570439-LDICQOXZ|     Outros|Residencial|        0|       0|     0|            0|     0|        1|              0|        180|       Vargem Grande|  Zona Oeste|50000.0|  0.0|  0.0|\n",
      "|684023-YTBNKLLO|     Outros|Residencial|        0|       0|     0|            0|     0|        0|              0|        128|               Bangu|  Zona Oeste|50000.0|  0.0|  0.0|\n",
      "|629412-VKUMMAVR|     Outros|Residencial|        0|       0|     0|            0|     0|        1|              0|         82|              Tanque|  Zona Oeste|45000.0|300.0|  0.0|\n",
      "|951104-MACIAPIS|Apartamento|Residencial|        2|       3|    20|            1|     1|       20|             19|         70|        Santo Cristo|Zona Central|45000.0|350.0|120.0|\n",
      "|375665-GHMFEZXX|Apartamento|Residencial|        2|       3|    20|            1|     1|       20|             19|         70|        Santo Cristo|Zona Central|50000.0|350.0|120.0|\n",
      "|441711-LRTWHRUA|Apartamento|Residencial|        1|       1|     0|            0|     0|        2|              0|         37|  Pedra de Guaratiba|  Zona Oeste|50000.0|  0.0|  0.0|\n",
      "|221946-ENAQETGD|     Outros|Residencial|        0|       0|     0|            0|     0|        0|              0|        120|           Guaratiba|  Zona Oeste|45020.0|  0.0|  0.0|\n",
      "|023787-PTASXXTL|     Outros|Residencial|        0|       0|     0|            0|     0|        0|              0|        120|           Guaratiba|  Zona Oeste|45040.0|  0.0|  0.0|\n",
      "|385687-SWOBLUWG|     Outros|Residencial|        0|       0|     0|            0|     0|        0|              0|        150|          Santa Cruz|  Zona Oeste|45000.0|  0.0|  0.0|\n",
      "|037953-VZOABKON|Apartamento|Residencial|        1|       2|     0|            1|     0|        0|              0|         30|         Coelho Neto|  Zona Norte|45000.0|  0.0|  0.0|\n",
      "|913561-GIAMXOYU|     Outros|Residencial|        0|       0|     0|            0|     0|        0|              0|        128|           Guaratiba|  Zona Oeste|45000.0|  0.0|  0.0|\n",
      "|511928-EYKXPKBU|     Outros|Residencial|        0|       0|     0|            0|     0|        0|              0|        120|           Guaratiba|  Zona Oeste|45070.0|  0.0|  0.0|\n",
      "+---------------+-----------+-----------+---------+--------+------+-------------+------+---------+---------------+-----------+--------------------+------------+-------+-----+-----+\n",
      "only showing top 20 rows\n",
      "\n"
     ]
    }
   ],
   "source": [
    "dataset.show()"
   ]
  },
  {
   "cell_type": "code",
   "execution_count": 27,
   "id": "1facbc72",
   "metadata": {},
   "outputs": [
    {
     "name": "stdout",
     "output_type": "stream",
     "text": [
      "+---------------+-----------+----+------+\n",
      "|     customerID|Apartamento|Casa|Outros|\n",
      "+---------------+-----------+----+------+\n",
      "|062130-QKYMWGMV|          1|   0|     0|\n",
      "|630945-AEEUPRXI|          0|   1|     0|\n",
      "|994985-OZQNHQKH|          1|   0|     0|\n",
      "|494674-JWXRZIBM|          1|   0|     0|\n",
      "|458844-UJCRFSRI|          1|   0|     0|\n",
      "|155284-BRCDAOIQ|          1|   0|     0|\n",
      "|396742-DUXBHLRU|          1|   0|     0|\n",
      "|916072-ZJXARAXO|          1|   0|     0|\n",
      "|943843-BVTWWHRQ|          1|   0|     0|\n",
      "|193126-MTNIIFQN|          1|   0|     0|\n",
      "|319762-UXTTQYFS|          1|   0|     0|\n",
      "|931151-GZCTKADB|          1|   0|     0|\n",
      "|103840-OFKPFEZJ|          0|   1|     0|\n",
      "|176885-NNKZRQGM|          0|   1|     0|\n",
      "|926638-PBYRAZYR|          1|   0|     0|\n",
      "|744421-IZJWISWB|          1|   0|     0|\n",
      "|530012-TYGLQMER|          1|   0|     0|\n",
      "|209407-GTEUOVKR|          1|   0|     0|\n",
      "|289667-ZPHGFHJH|          1|   0|     0|\n",
      "|859388-EYTPMKER|          1|   0|     0|\n",
      "+---------------+-----------+----+------+\n",
      "only showing top 20 rows\n",
      "\n"
     ]
    }
   ],
   "source": [
    "dataset\\\n",
    "    .groupBy(\"customerID\")\\\n",
    "    .pivot('unit')\\\n",
    "    .agg(f.lit(1))\\\n",
    "    .na\\\n",
    "    .fill(0)\\\n",
    "    .show()"
   ]
  },
  {
   "cell_type": "code",
   "execution_count": 28,
   "id": "5f92606a",
   "metadata": {},
   "outputs": [],
   "source": [
    "unit = dataset\\\n",
    "    .groupBy(\"customerID\")\\\n",
    "    .pivot('unit')\\\n",
    "    .agg(f.lit(1))\\\n",
    "    .na\\\n",
    "    .fill(0)"
   ]
  },
  {
   "cell_type": "code",
   "execution_count": 29,
   "id": "4d06010e",
   "metadata": {},
   "outputs": [],
   "source": [
    "zone = dataset\\\n",
    "    .groupBy(\"customerID\")\\\n",
    "    .pivot('zone')\\\n",
    "    .agg(f.lit(1))\\\n",
    "    .na\\\n",
    "    .fill(0)"
   ]
  },
  {
   "cell_type": "code",
   "execution_count": 30,
   "id": "c598ae8f",
   "metadata": {},
   "outputs": [],
   "source": [
    "dataset = dataset\\\n",
    "          .join(unit, 'customerID', how='inner')\\\n",
    "          .join(zone, 'customerID', how='inner')"
   ]
  },
  {
   "cell_type": "code",
   "execution_count": 31,
   "id": "ca83aa12",
   "metadata": {},
   "outputs": [
    {
     "name": "stdout",
     "output_type": "stream",
     "text": [
      "+---------------+-----------+-----------+---------+--------+------+-------------+------+---------+---------------+-----------+--------------------+------------+-------+-----+-----+-----------+----+------+------------+----------+----------+--------+\n",
      "|     customerID|       unit|      usage|bathrooms|bedrooms|floors|parkingSpaces|suites|unitFloor|unitsOnTheFloor|usableAreas|        neighborhood|        zone|  price|condo| iptu|Apartamento|Casa|Outros|Zona Central|Zona Norte|Zona Oeste|Zona Sul|\n",
      "+---------------+-----------+-----------+---------+--------+------+-------------+------+---------+---------------+-----------+--------------------+------------+-------+-----+-----+-----------+----+------+------------+----------+----------+--------+\n",
      "|775564-BOJSMVON|     Outros|Residencial|        0|       0|     0|            1|     0|        0|              0|         62|             Taquara|  Zona Oeste|45000.0|150.0|  0.0|          0|   0|     1|           0|         0|         1|       0|\n",
      "|660895-AUENKNYY|Apartamento|Residencial|        1|       2|     0|            1|     0|        0|              0|         44|          Santíssimo|  Zona Oeste|45000.0|120.0|  0.0|          1|   0|     0|           0|         0|         1|       0|\n",
      "|751522-JESYFEQL|     Outros|Residencial|        0|       0|     0|            0|     0|        0|              0|        132|  Pedra de Guaratiba|  Zona Oeste|50000.0|100.0|  0.0|          0|   0|     1|           0|         0|         1|       0|\n",
      "|568886-ZIBFOMCC|Apartamento|Residencial|        2|       3|     3|            1|     1|        2|              4|         60|Recreio dos Bande...|  Zona Oeste|50000.0|400.0|120.0|          1|   0|     0|           0|         0|         1|       0|\n",
      "|526755-OBLTYTEN|     Outros|Residencial|        0|       0|     0|            0|     0|        0|              0|        200|           Guaratiba|  Zona Oeste|50000.0|  0.0|  0.0|          0|   0|     1|           0|         0|         1|       0|\n",
      "|792086-NWNQTDYL|Apartamento|Residencial|        1|       1|     0|            1|     0|        0|              0|         33|         Jacarezinho|  Zona Norte|45336.0|  0.0|  0.0|          1|   0|     0|           0|         1|         0|       0|\n",
      "|339622-MNZGLKTZ|     Outros|Residencial|        0|       0|     0|            0|     0|        0|              0|        120|           Guaratiba|  Zona Oeste|45000.0|  0.0|  0.0|          0|   0|     1|           0|         0|         1|       0|\n",
      "|952338-SVULQMXR|     Outros|Residencial|        0|       0|     0|            0|     0|        0|              0|        468|          Santa Cruz|  Zona Oeste|45000.0|  0.0|  0.0|          0|   0|     1|           0|         0|         1|       0|\n",
      "|570439-LDICQOXZ|     Outros|Residencial|        0|       0|     0|            0|     0|        1|              0|        180|       Vargem Grande|  Zona Oeste|50000.0|  0.0|  0.0|          0|   0|     1|           0|         0|         1|       0|\n",
      "|684023-YTBNKLLO|     Outros|Residencial|        0|       0|     0|            0|     0|        0|              0|        128|               Bangu|  Zona Oeste|50000.0|  0.0|  0.0|          0|   0|     1|           0|         0|         1|       0|\n",
      "|629412-VKUMMAVR|     Outros|Residencial|        0|       0|     0|            0|     0|        1|              0|         82|              Tanque|  Zona Oeste|45000.0|300.0|  0.0|          0|   0|     1|           0|         0|         1|       0|\n",
      "|951104-MACIAPIS|Apartamento|Residencial|        2|       3|    20|            1|     1|       20|             19|         70|        Santo Cristo|Zona Central|45000.0|350.0|120.0|          1|   0|     0|           1|         0|         0|       0|\n",
      "|375665-GHMFEZXX|Apartamento|Residencial|        2|       3|    20|            1|     1|       20|             19|         70|        Santo Cristo|Zona Central|50000.0|350.0|120.0|          1|   0|     0|           1|         0|         0|       0|\n",
      "|441711-LRTWHRUA|Apartamento|Residencial|        1|       1|     0|            0|     0|        2|              0|         37|  Pedra de Guaratiba|  Zona Oeste|50000.0|  0.0|  0.0|          1|   0|     0|           0|         0|         1|       0|\n",
      "|221946-ENAQETGD|     Outros|Residencial|        0|       0|     0|            0|     0|        0|              0|        120|           Guaratiba|  Zona Oeste|45020.0|  0.0|  0.0|          0|   0|     1|           0|         0|         1|       0|\n",
      "|023787-PTASXXTL|     Outros|Residencial|        0|       0|     0|            0|     0|        0|              0|        120|           Guaratiba|  Zona Oeste|45040.0|  0.0|  0.0|          0|   0|     1|           0|         0|         1|       0|\n",
      "|385687-SWOBLUWG|     Outros|Residencial|        0|       0|     0|            0|     0|        0|              0|        150|          Santa Cruz|  Zona Oeste|45000.0|  0.0|  0.0|          0|   0|     1|           0|         0|         1|       0|\n",
      "|037953-VZOABKON|Apartamento|Residencial|        1|       2|     0|            1|     0|        0|              0|         30|         Coelho Neto|  Zona Norte|45000.0|  0.0|  0.0|          1|   0|     0|           0|         1|         0|       0|\n",
      "|913561-GIAMXOYU|     Outros|Residencial|        0|       0|     0|            0|     0|        0|              0|        128|           Guaratiba|  Zona Oeste|45000.0|  0.0|  0.0|          0|   0|     1|           0|         0|         1|       0|\n",
      "|511928-EYKXPKBU|     Outros|Residencial|        0|       0|     0|            0|     0|        0|              0|        120|           Guaratiba|  Zona Oeste|45070.0|  0.0|  0.0|          0|   0|     1|           0|         0|         1|       0|\n",
      "+---------------+-----------+-----------+---------+--------+------+-------------+------+---------+---------------+-----------+--------------------+------------+-------+-----+-----+-----------+----+------+------------+----------+----------+--------+\n",
      "only showing top 20 rows\n",
      "\n"
     ]
    }
   ],
   "source": [
    "dataset.show()"
   ]
  },
  {
   "cell_type": "code",
   "execution_count": 32,
   "id": "898182e9",
   "metadata": {},
   "outputs": [],
   "source": [
    "#VETORIZAÇÃO DE DADOS\n",
    "from pyspark.ml.feature import VectorAssembler"
   ]
  },
  {
   "cell_type": "code",
   "execution_count": 33,
   "id": "d84ed5ce",
   "metadata": {},
   "outputs": [],
   "source": [
    "dataset= dataset.withColumnRenamed('price', 'label')"
   ]
  },
  {
   "cell_type": "code",
   "execution_count": 34,
   "id": "1687930f",
   "metadata": {},
   "outputs": [],
   "source": [
    "X = [\n",
    "    'bathrooms',\n",
    "    'bedrooms',\n",
    "    'floors',\n",
    "    'parkingSpaces',\n",
    "    'suites',\n",
    "    'unitFloor',\n",
    "    'unitsOnTheFloor',\n",
    "    'usableAreas',\n",
    "    'condo',\n",
    "    'iptu',\n",
    "    'Apartamento',\n",
    "    'Casa',\n",
    "    'Outros',\n",
    "    'Zona Central',\n",
    "    'Zona Norte',\n",
    "    'Zona Oeste',\n",
    "    'Zona Sul'\n",
    "]"
   ]
  },
  {
   "cell_type": "code",
   "execution_count": 35,
   "id": "09b1f1b5",
   "metadata": {},
   "outputs": [],
   "source": [
    "assembler = VectorAssembler(inputCols = X, outputCol = 'features')"
   ]
  },
  {
   "cell_type": "code",
   "execution_count": 36,
   "id": "6d385b54",
   "metadata": {},
   "outputs": [
    {
     "name": "stdout",
     "output_type": "stream",
     "text": [
      "+---------------+-----------+-----------+---------+--------+------+-------------+------+---------+---------------+-----------+--------------------+------------+-------+-----+-----+-----------+----+------+------------+----------+----------+--------+\n",
      "|     customerID|       unit|      usage|bathrooms|bedrooms|floors|parkingSpaces|suites|unitFloor|unitsOnTheFloor|usableAreas|        neighborhood|        zone|  label|condo| iptu|Apartamento|Casa|Outros|Zona Central|Zona Norte|Zona Oeste|Zona Sul|\n",
      "+---------------+-----------+-----------+---------+--------+------+-------------+------+---------+---------------+-----------+--------------------+------------+-------+-----+-----+-----------+----+------+------------+----------+----------+--------+\n",
      "|775564-BOJSMVON|     Outros|Residencial|        0|       0|     0|            1|     0|        0|              0|         62|             Taquara|  Zona Oeste|45000.0|150.0|  0.0|          0|   0|     1|           0|         0|         1|       0|\n",
      "|660895-AUENKNYY|Apartamento|Residencial|        1|       2|     0|            1|     0|        0|              0|         44|          Santíssimo|  Zona Oeste|45000.0|120.0|  0.0|          1|   0|     0|           0|         0|         1|       0|\n",
      "|751522-JESYFEQL|     Outros|Residencial|        0|       0|     0|            0|     0|        0|              0|        132|  Pedra de Guaratiba|  Zona Oeste|50000.0|100.0|  0.0|          0|   0|     1|           0|         0|         1|       0|\n",
      "|568886-ZIBFOMCC|Apartamento|Residencial|        2|       3|     3|            1|     1|        2|              4|         60|Recreio dos Bande...|  Zona Oeste|50000.0|400.0|120.0|          1|   0|     0|           0|         0|         1|       0|\n",
      "|526755-OBLTYTEN|     Outros|Residencial|        0|       0|     0|            0|     0|        0|              0|        200|           Guaratiba|  Zona Oeste|50000.0|  0.0|  0.0|          0|   0|     1|           0|         0|         1|       0|\n",
      "|792086-NWNQTDYL|Apartamento|Residencial|        1|       1|     0|            1|     0|        0|              0|         33|         Jacarezinho|  Zona Norte|45336.0|  0.0|  0.0|          1|   0|     0|           0|         1|         0|       0|\n",
      "|339622-MNZGLKTZ|     Outros|Residencial|        0|       0|     0|            0|     0|        0|              0|        120|           Guaratiba|  Zona Oeste|45000.0|  0.0|  0.0|          0|   0|     1|           0|         0|         1|       0|\n",
      "|952338-SVULQMXR|     Outros|Residencial|        0|       0|     0|            0|     0|        0|              0|        468|          Santa Cruz|  Zona Oeste|45000.0|  0.0|  0.0|          0|   0|     1|           0|         0|         1|       0|\n",
      "|570439-LDICQOXZ|     Outros|Residencial|        0|       0|     0|            0|     0|        1|              0|        180|       Vargem Grande|  Zona Oeste|50000.0|  0.0|  0.0|          0|   0|     1|           0|         0|         1|       0|\n",
      "|684023-YTBNKLLO|     Outros|Residencial|        0|       0|     0|            0|     0|        0|              0|        128|               Bangu|  Zona Oeste|50000.0|  0.0|  0.0|          0|   0|     1|           0|         0|         1|       0|\n",
      "|629412-VKUMMAVR|     Outros|Residencial|        0|       0|     0|            0|     0|        1|              0|         82|              Tanque|  Zona Oeste|45000.0|300.0|  0.0|          0|   0|     1|           0|         0|         1|       0|\n",
      "|951104-MACIAPIS|Apartamento|Residencial|        2|       3|    20|            1|     1|       20|             19|         70|        Santo Cristo|Zona Central|45000.0|350.0|120.0|          1|   0|     0|           1|         0|         0|       0|\n",
      "|375665-GHMFEZXX|Apartamento|Residencial|        2|       3|    20|            1|     1|       20|             19|         70|        Santo Cristo|Zona Central|50000.0|350.0|120.0|          1|   0|     0|           1|         0|         0|       0|\n",
      "|441711-LRTWHRUA|Apartamento|Residencial|        1|       1|     0|            0|     0|        2|              0|         37|  Pedra de Guaratiba|  Zona Oeste|50000.0|  0.0|  0.0|          1|   0|     0|           0|         0|         1|       0|\n",
      "|221946-ENAQETGD|     Outros|Residencial|        0|       0|     0|            0|     0|        0|              0|        120|           Guaratiba|  Zona Oeste|45020.0|  0.0|  0.0|          0|   0|     1|           0|         0|         1|       0|\n",
      "|023787-PTASXXTL|     Outros|Residencial|        0|       0|     0|            0|     0|        0|              0|        120|           Guaratiba|  Zona Oeste|45040.0|  0.0|  0.0|          0|   0|     1|           0|         0|         1|       0|\n",
      "|385687-SWOBLUWG|     Outros|Residencial|        0|       0|     0|            0|     0|        0|              0|        150|          Santa Cruz|  Zona Oeste|45000.0|  0.0|  0.0|          0|   0|     1|           0|         0|         1|       0|\n",
      "|037953-VZOABKON|Apartamento|Residencial|        1|       2|     0|            1|     0|        0|              0|         30|         Coelho Neto|  Zona Norte|45000.0|  0.0|  0.0|          1|   0|     0|           0|         1|         0|       0|\n",
      "|913561-GIAMXOYU|     Outros|Residencial|        0|       0|     0|            0|     0|        0|              0|        128|           Guaratiba|  Zona Oeste|45000.0|  0.0|  0.0|          0|   0|     1|           0|         0|         1|       0|\n",
      "|511928-EYKXPKBU|     Outros|Residencial|        0|       0|     0|            0|     0|        0|              0|        120|           Guaratiba|  Zona Oeste|45070.0|  0.0|  0.0|          0|   0|     1|           0|         0|         1|       0|\n",
      "+---------------+-----------+-----------+---------+--------+------+-------------+------+---------+---------------+-----------+--------------------+------------+-------+-----+-----+-----------+----+------+------------+----------+----------+--------+\n",
      "only showing top 20 rows\n",
      "\n"
     ]
    }
   ],
   "source": [
    "dataset.show()"
   ]
  },
  {
   "cell_type": "code",
   "execution_count": 37,
   "id": "04be84d2",
   "metadata": {},
   "outputs": [],
   "source": [
    "dataset_prep = assembler.transform(dataset).select('features', 'label')"
   ]
  },
  {
   "cell_type": "code",
   "execution_count": 38,
   "id": "6f3f742a",
   "metadata": {},
   "outputs": [
    {
     "name": "stdout",
     "output_type": "stream",
     "text": [
      "+--------------------------------------------------------------------------+-------+\n",
      "|features                                                                  |label  |\n",
      "+--------------------------------------------------------------------------+-------+\n",
      "|(17,[3,7,8,12,15],[1.0,62.0,150.0,1.0,1.0])                               |45000.0|\n",
      "|(17,[0,1,3,7,8,10,15],[1.0,2.0,1.0,44.0,120.0,1.0,1.0])                   |45000.0|\n",
      "|(17,[7,8,12,15],[132.0,100.0,1.0,1.0])                                    |50000.0|\n",
      "|[2.0,3.0,3.0,1.0,1.0,2.0,4.0,60.0,400.0,120.0,1.0,0.0,0.0,0.0,0.0,1.0,0.0]|50000.0|\n",
      "|(17,[7,12,15],[200.0,1.0,1.0])                                            |50000.0|\n",
      "|(17,[0,1,3,7,10,14],[1.0,1.0,1.0,33.0,1.0,1.0])                           |45336.0|\n",
      "|(17,[7,12,15],[120.0,1.0,1.0])                                            |45000.0|\n",
      "|(17,[7,12,15],[468.0,1.0,1.0])                                            |45000.0|\n",
      "|(17,[5,7,12,15],[1.0,180.0,1.0,1.0])                                      |50000.0|\n",
      "|(17,[7,12,15],[128.0,1.0,1.0])                                            |50000.0|\n",
      "+--------------------------------------------------------------------------+-------+\n",
      "only showing top 10 rows\n",
      "\n"
     ]
    }
   ],
   "source": [
    "dataset_prep.show(10,truncate=False)"
   ]
  },
  {
   "cell_type": "code",
   "execution_count": 39,
   "id": "bc8bfd1b",
   "metadata": {},
   "outputs": [],
   "source": [
    "from pyspark.ml.stat import Correlation\n",
    "import pandas as pd"
   ]
  },
  {
   "cell_type": "code",
   "execution_count": 40,
   "id": "49b25225",
   "metadata": {},
   "outputs": [
    {
     "name": "stderr",
     "output_type": "stream",
     "text": [
      "C:\\Users/thiago.persiani/Desktop/Spark/PySpark/spark-3.2.3-bin-hadoop2.7\\python\\pyspark\\sql\\context.py:125: FutureWarning: Deprecated in 3.0.0. Use SparkSession.builder.getOrCreate() instead.\n",
      "  warnings.warn(\n"
     ]
    }
   ],
   "source": [
    "correlacao = Correlation.corr(dataset_prep,'features').collect()"
   ]
  },
  {
   "cell_type": "code",
   "execution_count": 41,
   "id": "d0098ade",
   "metadata": {},
   "outputs": [
    {
     "data": {
      "text/plain": [
       "[Row(pearson(features)=DenseMatrix(17, 17, [1.0, 0.6659, -0.0446, 0.4876, 0.7529, 0.0076, -0.1074, 0.5981, ..., 0.0088, 0.1803, -0.1833, -0.0165, -0.073, -0.3084, -0.6176, 1.0], False))]"
      ]
     },
     "execution_count": 41,
     "metadata": {},
     "output_type": "execute_result"
    }
   ],
   "source": [
    "correlacao"
   ]
  },
  {
   "cell_type": "code",
   "execution_count": 42,
   "id": "1ec2e9b6",
   "metadata": {},
   "outputs": [],
   "source": [
    "correlacao = Correlation.corr(dataset_prep,'features').collect()[0][0]"
   ]
  },
  {
   "cell_type": "code",
   "execution_count": 43,
   "id": "62521e27",
   "metadata": {},
   "outputs": [
    {
     "data": {
      "text/plain": [
       "DenseMatrix(17, 17, [1.0, 0.6659, -0.0446, 0.4876, 0.7529, 0.0076, -0.1074, 0.5981, ..., 0.0088, 0.1803, -0.1833, -0.0165, -0.073, -0.3084, -0.6176, 1.0], False)"
      ]
     },
     "execution_count": 43,
     "metadata": {},
     "output_type": "execute_result"
    }
   ],
   "source": [
    "correlacao"
   ]
  },
  {
   "cell_type": "code",
   "execution_count": 44,
   "id": "8855c182",
   "metadata": {},
   "outputs": [
    {
     "data": {
      "text/plain": [
       "array([[ 1.00000000e+00,  6.65910814e-01, -4.45907541e-02,\n",
       "         4.87590447e-01,  7.52927830e-01,  7.62425469e-03,\n",
       "        -1.07437445e-01,  5.98072790e-01,  2.00298945e-02,\n",
       "         1.51023977e-02, -2.75457964e-01,  3.43042378e-01,\n",
       "        -1.40183420e-01, -9.73678190e-02, -1.62497441e-01,\n",
       "         2.42345124e-01, -9.87517576e-02],\n",
       "       [ 6.65910814e-01,  1.00000000e+00, -8.21840063e-02,\n",
       "         4.67161260e-01,  6.01199220e-01, -7.16195849e-03,\n",
       "        -1.30814438e-01,  5.63750247e-01,  1.84819307e-02,\n",
       "         1.36391535e-02, -2.58339018e-01,  3.49962189e-01,\n",
       "        -2.05607705e-01, -1.23732152e-01, -1.11711865e-01,\n",
       "         1.63821698e-01, -4.94325200e-02],\n",
       "       [-4.45907541e-02, -8.21840063e-02,  1.00000000e+00,\n",
       "        -4.84861921e-02, -4.81062141e-02,  1.20981700e-01,\n",
       "         7.37717422e-01, -1.03916850e-01,  1.37973623e-02,\n",
       "         6.68849447e-03,  1.53947015e-01, -1.42089598e-01,\n",
       "        -5.19462291e-02,  1.26044467e-01, -1.69262936e-02,\n",
       "        -3.17495417e-02,  1.74019374e-02],\n",
       "       [ 4.87590447e-01,  4.67161260e-01, -4.84861921e-02,\n",
       "         1.00000000e+00,  4.84987652e-01,  3.76755370e-03,\n",
       "        -7.45265146e-02,  4.83731813e-01,  1.80124560e-02,\n",
       "         9.72140387e-03, -2.52745585e-01,  2.93325601e-01,\n",
       "        -7.23593595e-02, -8.64368160e-02, -1.09956571e-01,\n",
       "         2.67989967e-01, -1.78806840e-01],\n",
       "       [ 7.52927830e-01,  6.01199220e-01, -4.81062141e-02,\n",
       "         4.84987652e-01,  1.00000000e+00,  5.20616260e-03,\n",
       "        -9.19136006e-02,  5.77635834e-01,  2.34606128e-02,\n",
       "         1.90926884e-02, -2.36216911e-01,  2.82221024e-01,\n",
       "        -8.88343634e-02, -8.44165774e-02, -2.30316589e-01,\n",
       "         3.27546479e-01, -1.36397821e-01],\n",
       "       [ 7.62425469e-03, -7.16195849e-03,  1.20981700e-01,\n",
       "         3.76755370e-03,  5.20616260e-03,  1.00000000e+00,\n",
       "         9.23587397e-02, -1.27484319e-02,  3.06513241e-03,\n",
       "         1.20011722e-03,  3.46738112e-02, -3.14033404e-02,\n",
       "        -1.32746256e-02,  2.23147530e-02, -1.11115741e-02,\n",
       "         7.51785790e-03, -4.33263857e-03],\n",
       "       [-1.07437445e-01, -1.30814438e-01,  7.37717422e-01,\n",
       "        -7.45265146e-02, -9.19136006e-02,  9.23587397e-02,\n",
       "         1.00000000e+00, -1.44221795e-01, -5.53843929e-04,\n",
       "         5.02931788e-03,  1.47497097e-01, -1.37754210e-01,\n",
       "        -4.55227478e-02,  1.53638929e-01,  3.07529156e-02,\n",
       "        -1.24335521e-02, -5.55403382e-02],\n",
       "       [ 5.98072790e-01,  5.63750247e-01, -1.03916850e-01,\n",
       "         4.83731813e-01,  5.77635834e-01, -1.27484319e-02,\n",
       "        -1.44221795e-01,  1.00000000e+00,  1.97170581e-02,\n",
       "         1.46557718e-02, -4.82170368e-01,  4.59136000e-01,\n",
       "         1.25671636e-01, -7.52556784e-02, -1.58553255e-01,\n",
       "         1.92466079e-01, -5.19618547e-02],\n",
       "       [ 2.00298945e-02,  1.84819307e-02,  1.37973623e-02,\n",
       "         1.80124560e-02,  2.34606128e-02,  3.06513241e-03,\n",
       "        -5.53843929e-04,  1.97170581e-02,  1.00000000e+00,\n",
       "         2.26212288e-01,  9.10511948e-03, -8.62354544e-03,\n",
       "        -2.49547974e-03, -3.55287358e-03, -1.34528170e-02,\n",
       "        -1.05527328e-03,  1.44735011e-02],\n",
       "       [ 1.51023977e-02,  1.36391535e-02,  6.68849447e-03,\n",
       "         9.72140387e-03,  1.90926884e-02,  1.20011722e-03,\n",
       "         5.02931788e-03,  1.46557718e-02,  2.26212288e-01,\n",
       "         1.00000000e+00, -1.50172361e-03,  2.29128332e-03,\n",
       "        -1.86978516e-03, -2.43773221e-03, -8.40029867e-03,\n",
       "        -4.27577570e-04,  8.83529747e-03],\n",
       "       [-2.75457964e-01, -2.58339018e-01,  1.53947015e-01,\n",
       "        -2.52745585e-01, -2.36216911e-01,  3.46738112e-02,\n",
       "         1.47497097e-01, -4.82170368e-01,  9.10511948e-03,\n",
       "        -1.50172361e-03,  1.00000000e+00, -9.32270330e-01,\n",
       "        -3.13032028e-01,  3.40733867e-02,  1.03123851e-02,\n",
       "        -1.76033305e-01,  1.80288204e-01],\n",
       "       [ 3.43042378e-01,  3.49962189e-01, -1.42089598e-01,\n",
       "         2.93325601e-01,  2.82221024e-01, -3.14033404e-02,\n",
       "        -1.37754210e-01,  4.59136000e-01, -8.62354544e-03,\n",
       "         2.29128332e-03, -9.32270330e-01,  1.00000000e+00,\n",
       "        -5.17506766e-02, -4.18230764e-02, -7.96096280e-03,\n",
       "         1.78639806e-01, -1.83298315e-01],\n",
       "       [-1.40183420e-01, -2.05607705e-01, -5.19462291e-02,\n",
       "        -7.23593595e-02, -8.88343634e-02, -1.32746256e-02,\n",
       "        -4.55227478e-02,  1.25671636e-01, -2.49547974e-03,\n",
       "        -1.86978516e-03, -3.13032028e-01, -5.17506766e-02,\n",
       "         1.00000000e+00,  1.57380272e-02, -7.56767884e-03,\n",
       "         1.69602975e-02, -1.64760386e-02],\n",
       "       [-9.73678190e-02, -1.23732152e-01,  1.26044467e-01,\n",
       "        -8.64368160e-02, -8.44165774e-02,  2.23147530e-02,\n",
       "         1.53638929e-01, -7.52556784e-02, -3.55287358e-03,\n",
       "        -2.43773221e-03,  3.40733867e-02, -4.18230764e-02,\n",
       "         1.57380272e-02,  1.00000000e+00, -6.18350359e-02,\n",
       "        -1.23834280e-01, -7.30144333e-02],\n",
       "       [-1.62497441e-01, -1.11711865e-01, -1.69262936e-02,\n",
       "        -1.09956571e-01, -2.30316589e-01, -1.11115741e-02,\n",
       "         3.07529156e-02, -1.58553255e-01, -1.34528170e-02,\n",
       "        -8.40029867e-03,  1.03123851e-02, -7.96096280e-03,\n",
       "        -7.56767884e-03, -6.18350359e-02,  1.00000000e+00,\n",
       "        -5.22996452e-01, -3.08366065e-01],\n",
       "       [ 2.42345124e-01,  1.63821698e-01, -3.17495417e-02,\n",
       "         2.67989967e-01,  3.27546479e-01,  7.51785790e-03,\n",
       "        -1.24335521e-02,  1.92466079e-01, -1.05527328e-03,\n",
       "        -4.27577570e-04, -1.76033305e-01,  1.78639806e-01,\n",
       "         1.69602975e-02, -1.23834280e-01, -5.22996452e-01,\n",
       "         1.00000000e+00, -6.17551022e-01],\n",
       "       [-9.87517576e-02, -4.94325200e-02,  1.74019374e-02,\n",
       "        -1.78806840e-01, -1.36397821e-01, -4.33263857e-03,\n",
       "        -5.55403382e-02, -5.19618547e-02,  1.44735011e-02,\n",
       "         8.83529747e-03,  1.80288204e-01, -1.83298315e-01,\n",
       "        -1.64760386e-02, -7.30144333e-02, -3.08366065e-01,\n",
       "        -6.17551022e-01,  1.00000000e+00]])"
      ]
     },
     "execution_count": 44,
     "metadata": {},
     "output_type": "execute_result"
    }
   ],
   "source": [
    "correlacao.toArray()"
   ]
  },
  {
   "cell_type": "code",
   "execution_count": 45,
   "id": "7def6ac0",
   "metadata": {},
   "outputs": [],
   "source": [
    "dataframe_correlacao = pd.DataFrame(correlacao.toArray(), columns=X, index=X)"
   ]
  },
  {
   "cell_type": "code",
   "execution_count": 46,
   "id": "e70d529b",
   "metadata": {},
   "outputs": [
    {
     "data": {
      "text/html": [
       "<div>\n",
       "<style scoped>\n",
       "    .dataframe tbody tr th:only-of-type {\n",
       "        vertical-align: middle;\n",
       "    }\n",
       "\n",
       "    .dataframe tbody tr th {\n",
       "        vertical-align: top;\n",
       "    }\n",
       "\n",
       "    .dataframe thead th {\n",
       "        text-align: right;\n",
       "    }\n",
       "</style>\n",
       "<table border=\"1\" class=\"dataframe\">\n",
       "  <thead>\n",
       "    <tr style=\"text-align: right;\">\n",
       "      <th></th>\n",
       "      <th>bathrooms</th>\n",
       "      <th>bedrooms</th>\n",
       "      <th>floors</th>\n",
       "      <th>parkingSpaces</th>\n",
       "      <th>suites</th>\n",
       "      <th>unitFloor</th>\n",
       "      <th>unitsOnTheFloor</th>\n",
       "      <th>usableAreas</th>\n",
       "      <th>condo</th>\n",
       "      <th>iptu</th>\n",
       "      <th>Apartamento</th>\n",
       "      <th>Casa</th>\n",
       "      <th>Outros</th>\n",
       "      <th>Zona Central</th>\n",
       "      <th>Zona Norte</th>\n",
       "      <th>Zona Oeste</th>\n",
       "      <th>Zona Sul</th>\n",
       "    </tr>\n",
       "  </thead>\n",
       "  <tbody>\n",
       "    <tr>\n",
       "      <th>bathrooms</th>\n",
       "      <td>1.000000</td>\n",
       "      <td>0.665911</td>\n",
       "      <td>-0.044591</td>\n",
       "      <td>0.487590</td>\n",
       "      <td>0.752928</td>\n",
       "      <td>0.007624</td>\n",
       "      <td>-0.107437</td>\n",
       "      <td>0.598073</td>\n",
       "      <td>0.020030</td>\n",
       "      <td>0.015102</td>\n",
       "      <td>-0.275458</td>\n",
       "      <td>0.343042</td>\n",
       "      <td>-0.140183</td>\n",
       "      <td>-0.097368</td>\n",
       "      <td>-0.162497</td>\n",
       "      <td>0.242345</td>\n",
       "      <td>-0.098752</td>\n",
       "    </tr>\n",
       "    <tr>\n",
       "      <th>bedrooms</th>\n",
       "      <td>0.665911</td>\n",
       "      <td>1.000000</td>\n",
       "      <td>-0.082184</td>\n",
       "      <td>0.467161</td>\n",
       "      <td>0.601199</td>\n",
       "      <td>-0.007162</td>\n",
       "      <td>-0.130814</td>\n",
       "      <td>0.563750</td>\n",
       "      <td>0.018482</td>\n",
       "      <td>0.013639</td>\n",
       "      <td>-0.258339</td>\n",
       "      <td>0.349962</td>\n",
       "      <td>-0.205608</td>\n",
       "      <td>-0.123732</td>\n",
       "      <td>-0.111712</td>\n",
       "      <td>0.163822</td>\n",
       "      <td>-0.049433</td>\n",
       "    </tr>\n",
       "    <tr>\n",
       "      <th>floors</th>\n",
       "      <td>-0.044591</td>\n",
       "      <td>-0.082184</td>\n",
       "      <td>1.000000</td>\n",
       "      <td>-0.048486</td>\n",
       "      <td>-0.048106</td>\n",
       "      <td>0.120982</td>\n",
       "      <td>0.737717</td>\n",
       "      <td>-0.103917</td>\n",
       "      <td>0.013797</td>\n",
       "      <td>0.006688</td>\n",
       "      <td>0.153947</td>\n",
       "      <td>-0.142090</td>\n",
       "      <td>-0.051946</td>\n",
       "      <td>0.126044</td>\n",
       "      <td>-0.016926</td>\n",
       "      <td>-0.031750</td>\n",
       "      <td>0.017402</td>\n",
       "    </tr>\n",
       "    <tr>\n",
       "      <th>parkingSpaces</th>\n",
       "      <td>0.487590</td>\n",
       "      <td>0.467161</td>\n",
       "      <td>-0.048486</td>\n",
       "      <td>1.000000</td>\n",
       "      <td>0.484988</td>\n",
       "      <td>0.003768</td>\n",
       "      <td>-0.074527</td>\n",
       "      <td>0.483732</td>\n",
       "      <td>0.018012</td>\n",
       "      <td>0.009721</td>\n",
       "      <td>-0.252746</td>\n",
       "      <td>0.293326</td>\n",
       "      <td>-0.072359</td>\n",
       "      <td>-0.086437</td>\n",
       "      <td>-0.109957</td>\n",
       "      <td>0.267990</td>\n",
       "      <td>-0.178807</td>\n",
       "    </tr>\n",
       "    <tr>\n",
       "      <th>suites</th>\n",
       "      <td>0.752928</td>\n",
       "      <td>0.601199</td>\n",
       "      <td>-0.048106</td>\n",
       "      <td>0.484988</td>\n",
       "      <td>1.000000</td>\n",
       "      <td>0.005206</td>\n",
       "      <td>-0.091914</td>\n",
       "      <td>0.577636</td>\n",
       "      <td>0.023461</td>\n",
       "      <td>0.019093</td>\n",
       "      <td>-0.236217</td>\n",
       "      <td>0.282221</td>\n",
       "      <td>-0.088834</td>\n",
       "      <td>-0.084417</td>\n",
       "      <td>-0.230317</td>\n",
       "      <td>0.327546</td>\n",
       "      <td>-0.136398</td>\n",
       "    </tr>\n",
       "    <tr>\n",
       "      <th>unitFloor</th>\n",
       "      <td>0.007624</td>\n",
       "      <td>-0.007162</td>\n",
       "      <td>0.120982</td>\n",
       "      <td>0.003768</td>\n",
       "      <td>0.005206</td>\n",
       "      <td>1.000000</td>\n",
       "      <td>0.092359</td>\n",
       "      <td>-0.012748</td>\n",
       "      <td>0.003065</td>\n",
       "      <td>0.001200</td>\n",
       "      <td>0.034674</td>\n",
       "      <td>-0.031403</td>\n",
       "      <td>-0.013275</td>\n",
       "      <td>0.022315</td>\n",
       "      <td>-0.011112</td>\n",
       "      <td>0.007518</td>\n",
       "      <td>-0.004333</td>\n",
       "    </tr>\n",
       "    <tr>\n",
       "      <th>unitsOnTheFloor</th>\n",
       "      <td>-0.107437</td>\n",
       "      <td>-0.130814</td>\n",
       "      <td>0.737717</td>\n",
       "      <td>-0.074527</td>\n",
       "      <td>-0.091914</td>\n",
       "      <td>0.092359</td>\n",
       "      <td>1.000000</td>\n",
       "      <td>-0.144222</td>\n",
       "      <td>-0.000554</td>\n",
       "      <td>0.005029</td>\n",
       "      <td>0.147497</td>\n",
       "      <td>-0.137754</td>\n",
       "      <td>-0.045523</td>\n",
       "      <td>0.153639</td>\n",
       "      <td>0.030753</td>\n",
       "      <td>-0.012434</td>\n",
       "      <td>-0.055540</td>\n",
       "    </tr>\n",
       "    <tr>\n",
       "      <th>usableAreas</th>\n",
       "      <td>0.598073</td>\n",
       "      <td>0.563750</td>\n",
       "      <td>-0.103917</td>\n",
       "      <td>0.483732</td>\n",
       "      <td>0.577636</td>\n",
       "      <td>-0.012748</td>\n",
       "      <td>-0.144222</td>\n",
       "      <td>1.000000</td>\n",
       "      <td>0.019717</td>\n",
       "      <td>0.014656</td>\n",
       "      <td>-0.482170</td>\n",
       "      <td>0.459136</td>\n",
       "      <td>0.125672</td>\n",
       "      <td>-0.075256</td>\n",
       "      <td>-0.158553</td>\n",
       "      <td>0.192466</td>\n",
       "      <td>-0.051962</td>\n",
       "    </tr>\n",
       "    <tr>\n",
       "      <th>condo</th>\n",
       "      <td>0.020030</td>\n",
       "      <td>0.018482</td>\n",
       "      <td>0.013797</td>\n",
       "      <td>0.018012</td>\n",
       "      <td>0.023461</td>\n",
       "      <td>0.003065</td>\n",
       "      <td>-0.000554</td>\n",
       "      <td>0.019717</td>\n",
       "      <td>1.000000</td>\n",
       "      <td>0.226212</td>\n",
       "      <td>0.009105</td>\n",
       "      <td>-0.008624</td>\n",
       "      <td>-0.002495</td>\n",
       "      <td>-0.003553</td>\n",
       "      <td>-0.013453</td>\n",
       "      <td>-0.001055</td>\n",
       "      <td>0.014474</td>\n",
       "    </tr>\n",
       "    <tr>\n",
       "      <th>iptu</th>\n",
       "      <td>0.015102</td>\n",
       "      <td>0.013639</td>\n",
       "      <td>0.006688</td>\n",
       "      <td>0.009721</td>\n",
       "      <td>0.019093</td>\n",
       "      <td>0.001200</td>\n",
       "      <td>0.005029</td>\n",
       "      <td>0.014656</td>\n",
       "      <td>0.226212</td>\n",
       "      <td>1.000000</td>\n",
       "      <td>-0.001502</td>\n",
       "      <td>0.002291</td>\n",
       "      <td>-0.001870</td>\n",
       "      <td>-0.002438</td>\n",
       "      <td>-0.008400</td>\n",
       "      <td>-0.000428</td>\n",
       "      <td>0.008835</td>\n",
       "    </tr>\n",
       "    <tr>\n",
       "      <th>Apartamento</th>\n",
       "      <td>-0.275458</td>\n",
       "      <td>-0.258339</td>\n",
       "      <td>0.153947</td>\n",
       "      <td>-0.252746</td>\n",
       "      <td>-0.236217</td>\n",
       "      <td>0.034674</td>\n",
       "      <td>0.147497</td>\n",
       "      <td>-0.482170</td>\n",
       "      <td>0.009105</td>\n",
       "      <td>-0.001502</td>\n",
       "      <td>1.000000</td>\n",
       "      <td>-0.932270</td>\n",
       "      <td>-0.313032</td>\n",
       "      <td>0.034073</td>\n",
       "      <td>0.010312</td>\n",
       "      <td>-0.176033</td>\n",
       "      <td>0.180288</td>\n",
       "    </tr>\n",
       "    <tr>\n",
       "      <th>Casa</th>\n",
       "      <td>0.343042</td>\n",
       "      <td>0.349962</td>\n",
       "      <td>-0.142090</td>\n",
       "      <td>0.293326</td>\n",
       "      <td>0.282221</td>\n",
       "      <td>-0.031403</td>\n",
       "      <td>-0.137754</td>\n",
       "      <td>0.459136</td>\n",
       "      <td>-0.008624</td>\n",
       "      <td>0.002291</td>\n",
       "      <td>-0.932270</td>\n",
       "      <td>1.000000</td>\n",
       "      <td>-0.051751</td>\n",
       "      <td>-0.041823</td>\n",
       "      <td>-0.007961</td>\n",
       "      <td>0.178640</td>\n",
       "      <td>-0.183298</td>\n",
       "    </tr>\n",
       "    <tr>\n",
       "      <th>Outros</th>\n",
       "      <td>-0.140183</td>\n",
       "      <td>-0.205608</td>\n",
       "      <td>-0.051946</td>\n",
       "      <td>-0.072359</td>\n",
       "      <td>-0.088834</td>\n",
       "      <td>-0.013275</td>\n",
       "      <td>-0.045523</td>\n",
       "      <td>0.125672</td>\n",
       "      <td>-0.002495</td>\n",
       "      <td>-0.001870</td>\n",
       "      <td>-0.313032</td>\n",
       "      <td>-0.051751</td>\n",
       "      <td>1.000000</td>\n",
       "      <td>0.015738</td>\n",
       "      <td>-0.007568</td>\n",
       "      <td>0.016960</td>\n",
       "      <td>-0.016476</td>\n",
       "    </tr>\n",
       "    <tr>\n",
       "      <th>Zona Central</th>\n",
       "      <td>-0.097368</td>\n",
       "      <td>-0.123732</td>\n",
       "      <td>0.126044</td>\n",
       "      <td>-0.086437</td>\n",
       "      <td>-0.084417</td>\n",
       "      <td>0.022315</td>\n",
       "      <td>0.153639</td>\n",
       "      <td>-0.075256</td>\n",
       "      <td>-0.003553</td>\n",
       "      <td>-0.002438</td>\n",
       "      <td>0.034073</td>\n",
       "      <td>-0.041823</td>\n",
       "      <td>0.015738</td>\n",
       "      <td>1.000000</td>\n",
       "      <td>-0.061835</td>\n",
       "      <td>-0.123834</td>\n",
       "      <td>-0.073014</td>\n",
       "    </tr>\n",
       "    <tr>\n",
       "      <th>Zona Norte</th>\n",
       "      <td>-0.162497</td>\n",
       "      <td>-0.111712</td>\n",
       "      <td>-0.016926</td>\n",
       "      <td>-0.109957</td>\n",
       "      <td>-0.230317</td>\n",
       "      <td>-0.011112</td>\n",
       "      <td>0.030753</td>\n",
       "      <td>-0.158553</td>\n",
       "      <td>-0.013453</td>\n",
       "      <td>-0.008400</td>\n",
       "      <td>0.010312</td>\n",
       "      <td>-0.007961</td>\n",
       "      <td>-0.007568</td>\n",
       "      <td>-0.061835</td>\n",
       "      <td>1.000000</td>\n",
       "      <td>-0.522996</td>\n",
       "      <td>-0.308366</td>\n",
       "    </tr>\n",
       "    <tr>\n",
       "      <th>Zona Oeste</th>\n",
       "      <td>0.242345</td>\n",
       "      <td>0.163822</td>\n",
       "      <td>-0.031750</td>\n",
       "      <td>0.267990</td>\n",
       "      <td>0.327546</td>\n",
       "      <td>0.007518</td>\n",
       "      <td>-0.012434</td>\n",
       "      <td>0.192466</td>\n",
       "      <td>-0.001055</td>\n",
       "      <td>-0.000428</td>\n",
       "      <td>-0.176033</td>\n",
       "      <td>0.178640</td>\n",
       "      <td>0.016960</td>\n",
       "      <td>-0.123834</td>\n",
       "      <td>-0.522996</td>\n",
       "      <td>1.000000</td>\n",
       "      <td>-0.617551</td>\n",
       "    </tr>\n",
       "    <tr>\n",
       "      <th>Zona Sul</th>\n",
       "      <td>-0.098752</td>\n",
       "      <td>-0.049433</td>\n",
       "      <td>0.017402</td>\n",
       "      <td>-0.178807</td>\n",
       "      <td>-0.136398</td>\n",
       "      <td>-0.004333</td>\n",
       "      <td>-0.055540</td>\n",
       "      <td>-0.051962</td>\n",
       "      <td>0.014474</td>\n",
       "      <td>0.008835</td>\n",
       "      <td>0.180288</td>\n",
       "      <td>-0.183298</td>\n",
       "      <td>-0.016476</td>\n",
       "      <td>-0.073014</td>\n",
       "      <td>-0.308366</td>\n",
       "      <td>-0.617551</td>\n",
       "      <td>1.000000</td>\n",
       "    </tr>\n",
       "  </tbody>\n",
       "</table>\n",
       "</div>"
      ],
      "text/plain": [
       "                 bathrooms  bedrooms    floors  parkingSpaces    suites  \\\n",
       "bathrooms         1.000000  0.665911 -0.044591       0.487590  0.752928   \n",
       "bedrooms          0.665911  1.000000 -0.082184       0.467161  0.601199   \n",
       "floors           -0.044591 -0.082184  1.000000      -0.048486 -0.048106   \n",
       "parkingSpaces     0.487590  0.467161 -0.048486       1.000000  0.484988   \n",
       "suites            0.752928  0.601199 -0.048106       0.484988  1.000000   \n",
       "unitFloor         0.007624 -0.007162  0.120982       0.003768  0.005206   \n",
       "unitsOnTheFloor  -0.107437 -0.130814  0.737717      -0.074527 -0.091914   \n",
       "usableAreas       0.598073  0.563750 -0.103917       0.483732  0.577636   \n",
       "condo             0.020030  0.018482  0.013797       0.018012  0.023461   \n",
       "iptu              0.015102  0.013639  0.006688       0.009721  0.019093   \n",
       "Apartamento      -0.275458 -0.258339  0.153947      -0.252746 -0.236217   \n",
       "Casa              0.343042  0.349962 -0.142090       0.293326  0.282221   \n",
       "Outros           -0.140183 -0.205608 -0.051946      -0.072359 -0.088834   \n",
       "Zona Central     -0.097368 -0.123732  0.126044      -0.086437 -0.084417   \n",
       "Zona Norte       -0.162497 -0.111712 -0.016926      -0.109957 -0.230317   \n",
       "Zona Oeste        0.242345  0.163822 -0.031750       0.267990  0.327546   \n",
       "Zona Sul         -0.098752 -0.049433  0.017402      -0.178807 -0.136398   \n",
       "\n",
       "                 unitFloor  unitsOnTheFloor  usableAreas     condo      iptu  \\\n",
       "bathrooms         0.007624        -0.107437     0.598073  0.020030  0.015102   \n",
       "bedrooms         -0.007162        -0.130814     0.563750  0.018482  0.013639   \n",
       "floors            0.120982         0.737717    -0.103917  0.013797  0.006688   \n",
       "parkingSpaces     0.003768        -0.074527     0.483732  0.018012  0.009721   \n",
       "suites            0.005206        -0.091914     0.577636  0.023461  0.019093   \n",
       "unitFloor         1.000000         0.092359    -0.012748  0.003065  0.001200   \n",
       "unitsOnTheFloor   0.092359         1.000000    -0.144222 -0.000554  0.005029   \n",
       "usableAreas      -0.012748        -0.144222     1.000000  0.019717  0.014656   \n",
       "condo             0.003065        -0.000554     0.019717  1.000000  0.226212   \n",
       "iptu              0.001200         0.005029     0.014656  0.226212  1.000000   \n",
       "Apartamento       0.034674         0.147497    -0.482170  0.009105 -0.001502   \n",
       "Casa             -0.031403        -0.137754     0.459136 -0.008624  0.002291   \n",
       "Outros           -0.013275        -0.045523     0.125672 -0.002495 -0.001870   \n",
       "Zona Central      0.022315         0.153639    -0.075256 -0.003553 -0.002438   \n",
       "Zona Norte       -0.011112         0.030753    -0.158553 -0.013453 -0.008400   \n",
       "Zona Oeste        0.007518        -0.012434     0.192466 -0.001055 -0.000428   \n",
       "Zona Sul         -0.004333        -0.055540    -0.051962  0.014474  0.008835   \n",
       "\n",
       "                 Apartamento      Casa    Outros  Zona Central  Zona Norte  \\\n",
       "bathrooms          -0.275458  0.343042 -0.140183     -0.097368   -0.162497   \n",
       "bedrooms           -0.258339  0.349962 -0.205608     -0.123732   -0.111712   \n",
       "floors              0.153947 -0.142090 -0.051946      0.126044   -0.016926   \n",
       "parkingSpaces      -0.252746  0.293326 -0.072359     -0.086437   -0.109957   \n",
       "suites             -0.236217  0.282221 -0.088834     -0.084417   -0.230317   \n",
       "unitFloor           0.034674 -0.031403 -0.013275      0.022315   -0.011112   \n",
       "unitsOnTheFloor     0.147497 -0.137754 -0.045523      0.153639    0.030753   \n",
       "usableAreas        -0.482170  0.459136  0.125672     -0.075256   -0.158553   \n",
       "condo               0.009105 -0.008624 -0.002495     -0.003553   -0.013453   \n",
       "iptu               -0.001502  0.002291 -0.001870     -0.002438   -0.008400   \n",
       "Apartamento         1.000000 -0.932270 -0.313032      0.034073    0.010312   \n",
       "Casa               -0.932270  1.000000 -0.051751     -0.041823   -0.007961   \n",
       "Outros             -0.313032 -0.051751  1.000000      0.015738   -0.007568   \n",
       "Zona Central        0.034073 -0.041823  0.015738      1.000000   -0.061835   \n",
       "Zona Norte          0.010312 -0.007961 -0.007568     -0.061835    1.000000   \n",
       "Zona Oeste         -0.176033  0.178640  0.016960     -0.123834   -0.522996   \n",
       "Zona Sul            0.180288 -0.183298 -0.016476     -0.073014   -0.308366   \n",
       "\n",
       "                 Zona Oeste  Zona Sul  \n",
       "bathrooms          0.242345 -0.098752  \n",
       "bedrooms           0.163822 -0.049433  \n",
       "floors            -0.031750  0.017402  \n",
       "parkingSpaces      0.267990 -0.178807  \n",
       "suites             0.327546 -0.136398  \n",
       "unitFloor          0.007518 -0.004333  \n",
       "unitsOnTheFloor   -0.012434 -0.055540  \n",
       "usableAreas        0.192466 -0.051962  \n",
       "condo             -0.001055  0.014474  \n",
       "iptu              -0.000428  0.008835  \n",
       "Apartamento       -0.176033  0.180288  \n",
       "Casa               0.178640 -0.183298  \n",
       "Outros             0.016960 -0.016476  \n",
       "Zona Central      -0.123834 -0.073014  \n",
       "Zona Norte        -0.522996 -0.308366  \n",
       "Zona Oeste         1.000000 -0.617551  \n",
       "Zona Sul          -0.617551  1.000000  "
      ]
     },
     "execution_count": 46,
     "metadata": {},
     "output_type": "execute_result"
    }
   ],
   "source": [
    "dataframe_correlacao"
   ]
  },
  {
   "cell_type": "code",
   "execution_count": 51,
   "id": "faf35f4b",
   "metadata": {},
   "outputs": [],
   "source": [
    "import matplotlib.pyplot as plt\n",
    "import seaborn as sns"
   ]
  },
  {
   "cell_type": "code",
   "execution_count": 52,
   "id": "5a8363f6",
   "metadata": {},
   "outputs": [
    {
     "data": {
      "text/plain": [
       "<AxesSubplot:>"
      ]
     },
     "execution_count": 52,
     "metadata": {},
     "output_type": "execute_result"
    },
    {
     "data": {
      "image/png": "[encoded data removed]",
      "text/plain": [
       "<Figure size 864x720 with 2 Axes>"
      ]
     },
     "metadata": {
      "needs_background": "light"
     },
     "output_type": "display_data"
    }
   ],
   "source": [
    "plt.figure(figsize=(12,10))\n",
    "paleta = sns.color_palette(\"light:salmon\", as_cmap=True)\n",
    "sns.heatmap(dataframe_correlacao.round(1), annot=True, cmap=paleta)"
   ]
  },
  {
   "cell_type": "code",
   "execution_count": 53,
   "id": "131b0a86",
   "metadata": {},
   "outputs": [],
   "source": [
    "from pyspark.ml.regression import LinearRegression"
   ]
  },
  {
   "cell_type": "code",
   "execution_count": 54,
   "id": "5660d5ce",
   "metadata": {},
   "outputs": [],
   "source": [
    "treino , teste = dataset_prep.randomSplit([0.7,0.3], seed=101)"
   ]
  },
  {
   "cell_type": "code",
   "execution_count": 55,
   "id": "794601d4",
   "metadata": {},
   "outputs": [
    {
     "data": {
      "text/plain": [
       "48528"
      ]
     },
     "execution_count": 55,
     "metadata": {},
     "output_type": "execute_result"
    }
   ],
   "source": [
    "treino.count()"
   ]
  },
  {
   "cell_type": "code",
   "execution_count": 56,
   "id": "3a411961",
   "metadata": {},
   "outputs": [
    {
     "data": {
      "text/plain": [
       "20911"
      ]
     },
     "execution_count": 56,
     "metadata": {},
     "output_type": "execute_result"
    }
   ],
   "source": [
    "teste.count()"
   ]
  },
  {
   "cell_type": "code",
   "execution_count": 57,
   "id": "50812cc2",
   "metadata": {},
   "outputs": [],
   "source": [
    "lr = LinearRegression()"
   ]
  },
  {
   "cell_type": "code",
   "execution_count": 58,
   "id": "181f3062",
   "metadata": {},
   "outputs": [],
   "source": [
    "modelo_lr = lr.fit(treino)"
   ]
  },
  {
   "cell_type": "code",
   "execution_count": 59,
   "id": "adccf69d",
   "metadata": {},
   "outputs": [],
   "source": [
    "previsoes_lr_treino = modelo_lr.transform(treino)"
   ]
  },
  {
   "cell_type": "code",
   "execution_count": 60,
   "id": "97478506",
   "metadata": {},
   "outputs": [
    {
     "name": "stdout",
     "output_type": "stream",
     "text": [
      "+--------------------+--------+------------------+\n",
      "|            features|   label|        prediction|\n",
      "+--------------------+--------+------------------+\n",
      "|(17,[0,1,2,3,4,5,...|260000.0| 443266.0473661838|\n",
      "|(17,[0,1,2,3,4,5,...|500000.0|1127455.8300442211|\n",
      "|(17,[0,1,2,3,4,5,...|308615.0|  111210.499498218|\n",
      "|(17,[0,1,2,3,4,5,...|279000.0| 113587.9578758899|\n",
      "|(17,[0,1,2,3,4,5,...|545000.0|340703.71307723917|\n",
      "|(17,[0,1,2,3,4,5,...|449000.0| 390571.9959550907|\n",
      "|(17,[0,1,2,3,4,5,...|479000.0| 444003.4297175493|\n",
      "|(17,[0,1,2,3,4,5,...|420000.0| 720022.1542159102|\n",
      "|(17,[0,1,2,3,4,5,...|265000.0|519406.05037378933|\n",
      "|(17,[0,1,2,3,4,5,...|490000.0| 845483.5388433996|\n",
      "|(17,[0,1,2,3,4,5,...|650000.0| 644931.4982484158|\n",
      "|(17,[0,1,2,3,4,5,...|379900.0|448889.33390194055|\n",
      "|(17,[0,1,2,3,4,5,...|449000.0| 714548.9501098143|\n",
      "|(17,[0,1,2,3,4,5,...|190000.0|411726.94116216776|\n",
      "|(17,[0,1,2,3,4,5,...|896000.0|   597499.46015478|\n",
      "|(17,[0,1,2,3,4,5,...|679000.0| 864544.0129254961|\n",
      "|(17,[0,1,2,3,4,5,...|620000.0|  462766.720342759|\n",
      "|(17,[0,1,2,3,4,5,...|727000.0|419082.43132108724|\n",
      "|(17,[0,1,2,3,4,5,...|880000.0| 742962.4865653433|\n",
      "|(17,[0,1,2,3,4,5,...|435000.0|357556.24324982933|\n",
      "+--------------------+--------+------------------+\n",
      "only showing top 20 rows\n",
      "\n"
     ]
    }
   ],
   "source": [
    "previsoes_lr_treino.show()"
   ]
  },
  {
   "cell_type": "code",
   "execution_count": 61,
   "id": "cec2b18e",
   "metadata": {},
   "outputs": [],
   "source": [
    "#Metricas usadas\n",
    "resumo_treino = modelo_lr.summary"
   ]
  },
  {
   "cell_type": "code",
   "execution_count": 62,
   "id": "ef60a490",
   "metadata": {},
   "outputs": [
    {
     "data": {
      "text/plain": [
       "0.6655873678454574"
      ]
     },
     "execution_count": 62,
     "metadata": {},
     "output_type": "execute_result"
    }
   ],
   "source": [
    "resumo_treino.r2"
   ]
  },
  {
   "cell_type": "code",
   "execution_count": 63,
   "id": "ce4650c2",
   "metadata": {},
   "outputs": [
    {
     "data": {
      "text/plain": [
       "810348.9695316235"
      ]
     },
     "execution_count": 63,
     "metadata": {},
     "output_type": "execute_result"
    }
   ],
   "source": [
    "resumo_treino.rootMeanSquaredError"
   ]
  },
  {
   "cell_type": "code",
   "execution_count": 64,
   "id": "b0fd75c0",
   "metadata": {},
   "outputs": [],
   "source": [
    "resumo_teste = modelo_lr.evaluate(teste)"
   ]
  },
  {
   "cell_type": "code",
   "execution_count": 65,
   "id": "46312823",
   "metadata": {},
   "outputs": [
    {
     "data": {
      "text/plain": [
       "0.658520793777423"
      ]
     },
     "execution_count": 65,
     "metadata": {},
     "output_type": "execute_result"
    }
   ],
   "source": [
    "resumo_teste.r2"
   ]
  },
  {
   "cell_type": "code",
   "execution_count": 66,
   "id": "f3937778",
   "metadata": {},
   "outputs": [
    {
     "data": {
      "text/plain": [
       "800525.9696828823"
      ]
     },
     "execution_count": 66,
     "metadata": {},
     "output_type": "execute_result"
    }
   ],
   "source": [
    "resumo_teste.rootMeanSquaredError"
   ]
  },
  {
   "cell_type": "code",
   "execution_count": 67,
   "id": "54e9128a",
   "metadata": {},
   "outputs": [
    {
     "name": "stdout",
     "output_type": "stream",
     "text": [
      "Linear Regression\n",
      "==============================\n",
      "Dados de Treino\n",
      "==============================\n",
      "R²: 0.665587\n",
      "RSME: 810348.969532\n",
      "\n",
      "==============================\n",
      "Dados de Teste\n",
      "==============================\n",
      "R²: 0.658521\n",
      "RSME: 800525.969683\n"
     ]
    }
   ],
   "source": [
    "#Tabela de resumo Regressão Linear\n",
    "\n",
    "print('Linear Regression')\n",
    "print(\"=\"*30)\n",
    "print(\"Dados de Treino\")\n",
    "print(\"=\"*30)\n",
    "print(\"R²: %f\" % resumo_treino.r2)\n",
    "print(\"RSME: %f\" % resumo_treino.rootMeanSquaredError)\n",
    "print(\"\")\n",
    "print(\"=\"*30)\n",
    "print(\"Test Data\")\n",
    "print(\"=\"*30)\n",
    "print(\"R²: %f\" % resumo_teste.r2)\n",
    "print(\"RSME: %f\" % resumo_teste.rootMeanSquaredError)"
   ]
  },
  {
   "cell_type": "code",
   "execution_count": 68,
   "id": "c080b4e4",
   "metadata": {},
   "outputs": [],
   "source": [
    "from pyspark.ml.regression import DecisionTreeRegressor"
   ]
  },
  {
   "cell_type": "code",
   "execution_count": 69,
   "id": "d0b9d499",
   "metadata": {},
   "outputs": [],
   "source": [
    "dtr = DecisionTreeRegressor(seed=101, maxDepth=7)"
   ]
  },
  {
   "cell_type": "code",
   "execution_count": 70,
   "id": "d3fe9aa9",
   "metadata": {},
   "outputs": [],
   "source": [
    "modelo_dtr = dtr.fit(treino)"
   ]
  },
  {
   "cell_type": "code",
   "execution_count": 71,
   "id": "0fa94a8d",
   "metadata": {},
   "outputs": [],
   "source": [
    "previsoes_dtr_treino = modelo_dtr.transform(treino)"
   ]
  },
  {
   "cell_type": "code",
   "execution_count": 72,
   "id": "2ef839e2",
   "metadata": {},
   "outputs": [
    {
     "name": "stdout",
     "output_type": "stream",
     "text": [
      "+--------------------+--------+------------------+\n",
      "|            features|   label|        prediction|\n",
      "+--------------------+--------+------------------+\n",
      "|(17,[0,1,2,3,4,5,...|260000.0| 340855.8044843049|\n",
      "|(17,[0,1,2,3,4,5,...|500000.0| 553816.2525860447|\n",
      "|(17,[0,1,2,3,4,5,...|308615.0| 340855.8044843049|\n",
      "|(17,[0,1,2,3,4,5,...|279000.0| 340855.8044843049|\n",
      "|(17,[0,1,2,3,4,5,...|545000.0|     445137.460625|\n",
      "|(17,[0,1,2,3,4,5,...|449000.0| 553816.2525860447|\n",
      "|(17,[0,1,2,3,4,5,...|479000.0|     445137.460625|\n",
      "|(17,[0,1,2,3,4,5,...|420000.0| 553816.2525860447|\n",
      "|(17,[0,1,2,3,4,5,...|265000.0| 553816.2525860447|\n",
      "|(17,[0,1,2,3,4,5,...|490000.0|  820272.937751004|\n",
      "|(17,[0,1,2,3,4,5,...|650000.0|  736254.943802521|\n",
      "|(17,[0,1,2,3,4,5,...|379900.0|     445137.460625|\n",
      "|(17,[0,1,2,3,4,5,...|449000.0|     445137.460625|\n",
      "|(17,[0,1,2,3,4,5,...|190000.0| 340855.8044843049|\n",
      "|(17,[0,1,2,3,4,5,...|896000.0| 553816.2525860447|\n",
      "|(17,[0,1,2,3,4,5,...|679000.0|1158420.7653661144|\n",
      "|(17,[0,1,2,3,4,5,...|620000.0| 553816.2525860447|\n",
      "|(17,[0,1,2,3,4,5,...|727000.0| 553816.2525860447|\n",
      "|(17,[0,1,2,3,4,5,...|880000.0| 553816.2525860447|\n",
      "|(17,[0,1,2,3,4,5,...|435000.0| 340855.8044843049|\n",
      "+--------------------+--------+------------------+\n",
      "only showing top 20 rows\n",
      "\n"
     ]
    }
   ],
   "source": [
    "previsoes_dtr_treino.show()"
   ]
  },
  {
   "cell_type": "code",
   "execution_count": null,
   "id": "c511709d",
   "metadata": {},
   "outputs": [],
   "source": []
  }
 ],
 "metadata": {
  "kernelspec": {
   "display_name": "Python 3 (ipykernel)",
   "language": "python",
   "name": "python3"
  },
  "language_info": {
   "codemirror_mode": {
    "name": "ipython",
    "version": 3
   },
   "file_extension": ".py",
   "mimetype": "text/x-python",
   "name": "python",
   "nbconvert_exporter": "python",
   "pygments_lexer": "ipython3",
   "version": "3.9.7"
  }
 },
 "nbformat": 4,
 "nbformat_minor": 5
}
