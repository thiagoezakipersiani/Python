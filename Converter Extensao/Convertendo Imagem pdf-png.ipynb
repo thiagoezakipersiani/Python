{
 "cells": [
  {
   "cell_type": "code",
   "execution_count": 6,
   "id": "c70ea802",
   "metadata": {},
   "outputs": [
    {
     "name": "stdout",
     "output_type": "stream",
     "text": [
      "Requirement already satisfied: pdf2image in c:\\users\\thiago.persiani\\anaconda3\\lib\\site-packages (1.16.0)\n",
      "Requirement already satisfied: pillow in c:\\users\\thiago.persiani\\anaconda3\\lib\\site-packages (from pdf2image) (8.4.0)\n",
      "\n",
      "[notice] A new release of pip available: 22.2 -> 22.2.2\n",
      "[notice] To update, run: python.exe -m pip install --upgrade pip\n",
      "Collecting poppler-utils\n",
      "  Downloading poppler_utils-0.1.0-py3-none-any.whl (9.2 kB)\n",
      "Requirement already satisfied: Click>=7.0 in c:\\users\\thiago.persiani\\anaconda3\\lib\\site-packages (from poppler-utils) (8.0.3)\n",
      "Requirement already satisfied: colorama in c:\\users\\thiago.persiani\\anaconda3\\lib\\site-packages (from Click>=7.0->poppler-utils) (0.4.4)\n",
      "Installing collected packages: poppler-utils\n",
      "Successfully installed poppler-utils-0.1.0\n",
      "\n",
      "[notice] A new release of pip available: 22.2 -> 22.2.2\n",
      "[notice] To update, run: python.exe -m pip install --upgrade pip\n"
     ]
    }
   ],
   "source": [
    "!pip3 install pdf2image"
   ]
  },
  {
   "cell_type": "code",
   "execution_count": 4,
   "id": "06cfc07e",
   "metadata": {},
   "outputs": [],
   "source": [
    "from pdf2image import convert_from_path\n",
    "import os"
   ]
  },
  {
   "cell_type": "code",
   "execution_count": 22,
   "id": "0b1d13e9",
   "metadata": {},
   "outputs": [
    {
     "name": "stdout",
     "output_type": "stream",
     "text": [
      "Foto convertida\n"
     ]
    }
   ],
   "source": [
    "poppler_path = r\".\\poppler-22.04.0\\Library\\bin\"\n",
    "pdf_path = r\".\\teste.pdf\"\n",
    "pages = convert_from_path(pdf_path=pdf_path,poppler_path=poppler_path)\n",
    "\n",
    "saving_folder = r\"C:\\Users\\thiago.persiani\\Desktop\\GitHub\\Python\\Converter Extensao\"\n",
    "\n",
    "for page in pages:\n",
    "    img_name=f\"teste.png\"\n",
    "    page.save(os.path.join(saving_folder,img_name),\"PNG\")\n",
    "    \n",
    "print(\"Foto convertida\")"
   ]
  },
  {
   "cell_type": "code",
   "execution_count": null,
   "id": "6c9391b8",
   "metadata": {},
   "outputs": [],
   "source": []
  }
 ],
 "metadata": {
  "kernelspec": {
   "display_name": "Python 3 (ipykernel)",
   "language": "python",
   "name": "python3"
  },
  "language_info": {
   "codemirror_mode": {
    "name": "ipython",
    "version": 3
   },
   "file_extension": ".py",
   "mimetype": "text/x-python",
   "name": "python",
   "nbconvert_exporter": "python",
   "pygments_lexer": "ipython3",
   "version": "3.9.7"
  }
 },
 "nbformat": 4,
 "nbformat_minor": 5
}
